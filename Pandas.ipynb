{
 "cells": [
  {
   "cell_type": "code",
   "execution_count": 1,
   "metadata": {
    "collapsed": false
   },
   "outputs": [],
   "source": [
    "import pandas as pd\n",
    "import numpy as np\n",
    "import matplotlib.pyplot as plt\n",
    "\n",
    "%matplotlib inline\n",
    "\n",
    "iplist = pd.read_csv(\"iplocation.csv\")\n",
    "df = pd.DataFrame(iplist)\n",
    "\n",
    "df.columns = ['time_stamp', 'ip', 'country', 'city']"
   ]
  },
  {
   "cell_type": "code",
   "execution_count": 5,
   "metadata": {
    "collapsed": false
   },
   "outputs": [
    {
     "data": {
      "text/html": [
       "<div>\n",
       "<table border=\"1\" class=\"dataframe\">\n",
       "  <thead>\n",
       "    <tr style=\"text-align: right;\">\n",
       "      <th></th>\n",
       "      <th>time_stamp</th>\n",
       "      <th>ip</th>\n",
       "      <th>country</th>\n",
       "      <th>city</th>\n",
       "    </tr>\n",
       "  </thead>\n",
       "  <tbody>\n",
       "    <tr>\n",
       "      <th>0</th>\n",
       "      <td>2016-05-08 18:07:00</td>\n",
       "      <td>52.31.166.88</td>\n",
       "      <td>United States</td>\n",
       "      <td>Wilmington</td>\n",
       "    </tr>\n",
       "    <tr>\n",
       "      <th>1</th>\n",
       "      <td>2016-05-09 01:00:58</td>\n",
       "      <td>52.31.166.88</td>\n",
       "      <td>United States</td>\n",
       "      <td>Wilmington</td>\n",
       "    </tr>\n",
       "    <tr>\n",
       "      <th>2</th>\n",
       "      <td>2016-05-09 14:07:15</td>\n",
       "      <td>52.31.166.88</td>\n",
       "      <td>United States</td>\n",
       "      <td>Wilmington</td>\n",
       "    </tr>\n",
       "    <tr>\n",
       "      <th>3</th>\n",
       "      <td>2016-05-10 02:08:05</td>\n",
       "      <td>52.31.166.88</td>\n",
       "      <td>United States</td>\n",
       "      <td>Wilmington</td>\n",
       "    </tr>\n",
       "    <tr>\n",
       "      <th>4</th>\n",
       "      <td>2016-05-10 11:26:52</td>\n",
       "      <td>54.159.52.252</td>\n",
       "      <td>United States</td>\n",
       "      <td>Ashburn</td>\n",
       "    </tr>\n",
       "  </tbody>\n",
       "</table>\n",
       "</div>"
      ],
      "text/plain": [
       "            time_stamp             ip        country        city\n",
       "0  2016-05-08 18:07:00   52.31.166.88  United States  Wilmington\n",
       "1  2016-05-09 01:00:58   52.31.166.88  United States  Wilmington\n",
       "2  2016-05-09 14:07:15   52.31.166.88  United States  Wilmington\n",
       "3  2016-05-10 02:08:05   52.31.166.88  United States  Wilmington\n",
       "4  2016-05-10 11:26:52  54.159.52.252  United States     Ashburn"
      ]
     },
     "execution_count": 5,
     "metadata": {},
     "output_type": "execute_result"
    }
   ],
   "source": [
    "df.head()"
   ]
  },
  {
   "cell_type": "code",
   "execution_count": 6,
   "metadata": {
    "collapsed": false
   },
   "outputs": [
    {
     "data": {
      "text/html": [
       "<div>\n",
       "<table border=\"1\" class=\"dataframe\">\n",
       "  <thead>\n",
       "    <tr style=\"text-align: right;\">\n",
       "      <th></th>\n",
       "      <th>time_stamp</th>\n",
       "      <th>ip</th>\n",
       "      <th>country</th>\n",
       "      <th>city</th>\n",
       "    </tr>\n",
       "  </thead>\n",
       "  <tbody>\n",
       "    <tr>\n",
       "      <th>6073</th>\n",
       "      <td>2016-03-31 10:27:37</td>\n",
       "      <td>193.1.39.1</td>\n",
       "      <td>Ireland</td>\n",
       "      <td>Blanchardstown</td>\n",
       "    </tr>\n",
       "    <tr>\n",
       "      <th>6074</th>\n",
       "      <td>2016-03-31 10:27:56</td>\n",
       "      <td>193.1.39.1</td>\n",
       "      <td>Ireland</td>\n",
       "      <td>Blanchardstown</td>\n",
       "    </tr>\n",
       "    <tr>\n",
       "      <th>6075</th>\n",
       "      <td>2016-03-31 10:28:10</td>\n",
       "      <td>193.1.39.1</td>\n",
       "      <td>Ireland</td>\n",
       "      <td>Blanchardstown</td>\n",
       "    </tr>\n",
       "    <tr>\n",
       "      <th>6076</th>\n",
       "      <td>2016-03-31 10:28:15</td>\n",
       "      <td>193.1.39.1</td>\n",
       "      <td>Ireland</td>\n",
       "      <td>Blanchardstown</td>\n",
       "    </tr>\n",
       "    <tr>\n",
       "      <th>6077</th>\n",
       "      <td>2016-03-31 10:28:26</td>\n",
       "      <td>193.1.39.1</td>\n",
       "      <td>Ireland</td>\n",
       "      <td>Blanchardstown</td>\n",
       "    </tr>\n",
       "  </tbody>\n",
       "</table>\n",
       "</div>"
      ],
      "text/plain": [
       "               time_stamp          ip  country            city\n",
       "6073  2016-03-31 10:27:37  193.1.39.1  Ireland  Blanchardstown\n",
       "6074  2016-03-31 10:27:56  193.1.39.1  Ireland  Blanchardstown\n",
       "6075  2016-03-31 10:28:10  193.1.39.1  Ireland  Blanchardstown\n",
       "6076  2016-03-31 10:28:15  193.1.39.1  Ireland  Blanchardstown\n",
       "6077  2016-03-31 10:28:26  193.1.39.1  Ireland  Blanchardstown"
      ]
     },
     "execution_count": 6,
     "metadata": {},
     "output_type": "execute_result"
    }
   ],
   "source": [
    "df.tail()"
   ]
  },
  {
   "cell_type": "code",
   "execution_count": 7,
   "metadata": {
    "collapsed": false
   },
   "outputs": [
    {
     "data": {
      "text/html": [
       "<div>\n",
       "<table border=\"1\" class=\"dataframe\">\n",
       "  <thead>\n",
       "    <tr style=\"text-align: right;\">\n",
       "      <th></th>\n",
       "      <th>time_stamp</th>\n",
       "      <th>ip</th>\n",
       "      <th>country</th>\n",
       "      <th>city</th>\n",
       "    </tr>\n",
       "  </thead>\n",
       "  <tbody>\n",
       "    <tr>\n",
       "      <th>0</th>\n",
       "      <td>2016-05-08 18:07:00</td>\n",
       "      <td>52.31.166.88</td>\n",
       "      <td>United States</td>\n",
       "      <td>Wilmington</td>\n",
       "    </tr>\n",
       "    <tr>\n",
       "      <th>1</th>\n",
       "      <td>2016-05-09 01:00:58</td>\n",
       "      <td>52.31.166.88</td>\n",
       "      <td>United States</td>\n",
       "      <td>Wilmington</td>\n",
       "    </tr>\n",
       "    <tr>\n",
       "      <th>2</th>\n",
       "      <td>2016-05-09 14:07:15</td>\n",
       "      <td>52.31.166.88</td>\n",
       "      <td>United States</td>\n",
       "      <td>Wilmington</td>\n",
       "    </tr>\n",
       "    <tr>\n",
       "      <th>3</th>\n",
       "      <td>2016-05-10 02:08:05</td>\n",
       "      <td>52.31.166.88</td>\n",
       "      <td>United States</td>\n",
       "      <td>Wilmington</td>\n",
       "    </tr>\n",
       "    <tr>\n",
       "      <th>4</th>\n",
       "      <td>2016-05-10 11:26:52</td>\n",
       "      <td>54.159.52.252</td>\n",
       "      <td>United States</td>\n",
       "      <td>Ashburn</td>\n",
       "    </tr>\n",
       "    <tr>\n",
       "      <th>5</th>\n",
       "      <td>2016-05-10 14:01:57</td>\n",
       "      <td>52.31.166.88</td>\n",
       "      <td>United States</td>\n",
       "      <td>Wilmington</td>\n",
       "    </tr>\n",
       "    <tr>\n",
       "      <th>6</th>\n",
       "      <td>2016-05-10 18:31:13</td>\n",
       "      <td>66.240.213.93</td>\n",
       "      <td>United States</td>\n",
       "      <td>San Diego</td>\n",
       "    </tr>\n",
       "    <tr>\n",
       "      <th>7</th>\n",
       "      <td>2016-05-10 19:44:07</td>\n",
       "      <td>137.226.113.7</td>\n",
       "      <td>Germany</td>\n",
       "      <td>Aachen</td>\n",
       "    </tr>\n",
       "    <tr>\n",
       "      <th>8</th>\n",
       "      <td>2016-05-10 23:08:30</td>\n",
       "      <td>191.96.249.20</td>\n",
       "      <td>Chile</td>\n",
       "      <td>Santiago</td>\n",
       "    </tr>\n",
       "    <tr>\n",
       "      <th>9</th>\n",
       "      <td>2016-05-10 23:22:55</td>\n",
       "      <td>191.96.249.20</td>\n",
       "      <td>Chile</td>\n",
       "      <td>Santiago</td>\n",
       "    </tr>\n",
       "    <tr>\n",
       "      <th>10</th>\n",
       "      <td>2016-05-10 23:40:30</td>\n",
       "      <td>191.96.249.20</td>\n",
       "      <td>Chile</td>\n",
       "      <td>Santiago</td>\n",
       "    </tr>\n",
       "    <tr>\n",
       "      <th>11</th>\n",
       "      <td>2016-05-11 01:12:53</td>\n",
       "      <td>52.31.166.88</td>\n",
       "      <td>United States</td>\n",
       "      <td>Wilmington</td>\n",
       "    </tr>\n",
       "    <tr>\n",
       "      <th>12</th>\n",
       "      <td>2016-05-11 10:37:01</td>\n",
       "      <td>169.229.3.91</td>\n",
       "      <td>United States</td>\n",
       "      <td>Berkeley</td>\n",
       "    </tr>\n",
       "    <tr>\n",
       "      <th>28</th>\n",
       "      <td>2016-05-11 12:15:35</td>\n",
       "      <td>66.249.93.152</td>\n",
       "      <td>United States</td>\n",
       "      <td>Mountain View</td>\n",
       "    </tr>\n",
       "    <tr>\n",
       "      <th>29</th>\n",
       "      <td>2016-05-11 12:15:35</td>\n",
       "      <td>66.249.93.152</td>\n",
       "      <td>United States</td>\n",
       "      <td>Mountain View</td>\n",
       "    </tr>\n",
       "    <tr>\n",
       "      <th>30</th>\n",
       "      <td>2016-05-11 13:04:27</td>\n",
       "      <td>141.212.122.161</td>\n",
       "      <td>United States</td>\n",
       "      <td>Ann Arbor</td>\n",
       "    </tr>\n",
       "    <tr>\n",
       "      <th>31</th>\n",
       "      <td>2016-05-11 13:04:27</td>\n",
       "      <td>141.212.122.161</td>\n",
       "      <td>United States</td>\n",
       "      <td>Ann Arbor</td>\n",
       "    </tr>\n",
       "    <tr>\n",
       "      <th>32</th>\n",
       "      <td>2016-05-11 13:04:27</td>\n",
       "      <td>52.31.166.88</td>\n",
       "      <td>United States</td>\n",
       "      <td>Wilmington</td>\n",
       "    </tr>\n",
       "    <tr>\n",
       "      <th>33</th>\n",
       "      <td>2016-05-11 19:02:32</td>\n",
       "      <td>52.31.166.88</td>\n",
       "      <td>United States</td>\n",
       "      <td>Wilmington</td>\n",
       "    </tr>\n",
       "    <tr>\n",
       "      <th>34</th>\n",
       "      <td>2016-05-11 20:23:21</td>\n",
       "      <td>66.249.93.155</td>\n",
       "      <td>United States</td>\n",
       "      <td>Mountain View</td>\n",
       "    </tr>\n",
       "    <tr>\n",
       "      <th>35</th>\n",
       "      <td>2016-05-11 21:36:38</td>\n",
       "      <td>52.51.71.162</td>\n",
       "      <td>United States</td>\n",
       "      <td>Wilmington</td>\n",
       "    </tr>\n",
       "    <tr>\n",
       "      <th>36</th>\n",
       "      <td>2016-05-11 21:43:37</td>\n",
       "      <td>123.59.59.52</td>\n",
       "      <td>China</td>\n",
       "      <td>Beijing</td>\n",
       "    </tr>\n",
       "    <tr>\n",
       "      <th>37</th>\n",
       "      <td>2016-05-11 21:43:37</td>\n",
       "      <td>123.59.59.52</td>\n",
       "      <td>China</td>\n",
       "      <td>Beijing</td>\n",
       "    </tr>\n",
       "    <tr>\n",
       "      <th>47</th>\n",
       "      <td>2016-05-11 22:59:54</td>\n",
       "      <td>173.252.115.194</td>\n",
       "      <td>United States</td>\n",
       "      <td>Menlo Park</td>\n",
       "    </tr>\n",
       "    <tr>\n",
       "      <th>48</th>\n",
       "      <td>2016-05-11 22:59:55</td>\n",
       "      <td>173.252.88.186</td>\n",
       "      <td>United States</td>\n",
       "      <td>Menlo Park</td>\n",
       "    </tr>\n",
       "    <tr>\n",
       "      <th>49</th>\n",
       "      <td>2016-05-11 22:59:55</td>\n",
       "      <td>173.252.107.119</td>\n",
       "      <td>United States</td>\n",
       "      <td>Menlo Park</td>\n",
       "    </tr>\n",
       "    <tr>\n",
       "      <th>50</th>\n",
       "      <td>2016-05-11 22:59:55</td>\n",
       "      <td>173.252.107.119</td>\n",
       "      <td>United States</td>\n",
       "      <td>Menlo Park</td>\n",
       "    </tr>\n",
       "    <tr>\n",
       "      <th>51</th>\n",
       "      <td>2016-05-11 22:59:57</td>\n",
       "      <td>66.220.152.3</td>\n",
       "      <td>United States</td>\n",
       "      <td>Menlo Park</td>\n",
       "    </tr>\n",
       "    <tr>\n",
       "      <th>52</th>\n",
       "      <td>2016-05-11 22:59:57</td>\n",
       "      <td>173.252.95.18</td>\n",
       "      <td>United States</td>\n",
       "      <td>Menlo Park</td>\n",
       "    </tr>\n",
       "    <tr>\n",
       "      <th>76</th>\n",
       "      <td>2016-05-12 04:21:19</td>\n",
       "      <td>52.31.166.88</td>\n",
       "      <td>United States</td>\n",
       "      <td>Wilmington</td>\n",
       "    </tr>\n",
       "    <tr>\n",
       "      <th>...</th>\n",
       "      <td>...</td>\n",
       "      <td>...</td>\n",
       "      <td>...</td>\n",
       "      <td>...</td>\n",
       "    </tr>\n",
       "    <tr>\n",
       "      <th>5805</th>\n",
       "      <td>2016-03-28 19:52:39</td>\n",
       "      <td>166.78.5.167</td>\n",
       "      <td>United States</td>\n",
       "      <td>San Antonio</td>\n",
       "    </tr>\n",
       "    <tr>\n",
       "      <th>5806</th>\n",
       "      <td>2016-03-28 19:52:45</td>\n",
       "      <td>166.78.5.167</td>\n",
       "      <td>United States</td>\n",
       "      <td>San Antonio</td>\n",
       "    </tr>\n",
       "    <tr>\n",
       "      <th>5807</th>\n",
       "      <td>2016-03-28 19:52:52</td>\n",
       "      <td>166.78.5.167</td>\n",
       "      <td>United States</td>\n",
       "      <td>San Antonio</td>\n",
       "    </tr>\n",
       "    <tr>\n",
       "      <th>5808</th>\n",
       "      <td>2016-03-28 19:52:58</td>\n",
       "      <td>166.78.5.167</td>\n",
       "      <td>United States</td>\n",
       "      <td>San Antonio</td>\n",
       "    </tr>\n",
       "    <tr>\n",
       "      <th>5809</th>\n",
       "      <td>2016-03-28 19:53:05</td>\n",
       "      <td>166.78.5.167</td>\n",
       "      <td>United States</td>\n",
       "      <td>San Antonio</td>\n",
       "    </tr>\n",
       "    <tr>\n",
       "      <th>5810</th>\n",
       "      <td>2016-03-28 23:18:55</td>\n",
       "      <td>113.160.110.89</td>\n",
       "      <td>Vietnam</td>\n",
       "      <td>Hanoi</td>\n",
       "    </tr>\n",
       "    <tr>\n",
       "      <th>5811</th>\n",
       "      <td>2016-03-29 00:39:35</td>\n",
       "      <td>54.165.171.43</td>\n",
       "      <td>United States</td>\n",
       "      <td>Ashburn</td>\n",
       "    </tr>\n",
       "    <tr>\n",
       "      <th>5812</th>\n",
       "      <td>2016-03-29 09:00:26</td>\n",
       "      <td>54.81.171.53</td>\n",
       "      <td>United States</td>\n",
       "      <td>Ashburn</td>\n",
       "    </tr>\n",
       "    <tr>\n",
       "      <th>5813</th>\n",
       "      <td>2016-03-29 12:46:10</td>\n",
       "      <td>54.255.191.246</td>\n",
       "      <td>Singapore</td>\n",
       "      <td>Singapore</td>\n",
       "    </tr>\n",
       "    <tr>\n",
       "      <th>5814</th>\n",
       "      <td>2016-03-30 02:06:47</td>\n",
       "      <td>52.31.166.88</td>\n",
       "      <td>United States</td>\n",
       "      <td>Wilmington</td>\n",
       "    </tr>\n",
       "    <tr>\n",
       "      <th>5815</th>\n",
       "      <td>2016-03-30 13:49:21</td>\n",
       "      <td>69.197.185.22</td>\n",
       "      <td>United States</td>\n",
       "      <td>Kansas City</td>\n",
       "    </tr>\n",
       "    <tr>\n",
       "      <th>5816</th>\n",
       "      <td>2016-03-30 15:00:42</td>\n",
       "      <td>74.91.18.45</td>\n",
       "      <td>United States</td>\n",
       "      <td>Kansas City</td>\n",
       "    </tr>\n",
       "    <tr>\n",
       "      <th>5817</th>\n",
       "      <td>2016-03-30 18:57:52</td>\n",
       "      <td>82.117.201.10</td>\n",
       "      <td>Serbia</td>\n",
       "      <td>Belgrade</td>\n",
       "    </tr>\n",
       "    <tr>\n",
       "      <th>5818</th>\n",
       "      <td>2016-03-30 20:15:51</td>\n",
       "      <td>52.31.166.88</td>\n",
       "      <td>United States</td>\n",
       "      <td>Wilmington</td>\n",
       "    </tr>\n",
       "    <tr>\n",
       "      <th>5819</th>\n",
       "      <td>2016-03-30 21:10:31</td>\n",
       "      <td>220.167.100.13</td>\n",
       "      <td>China</td>\n",
       "      <td>Chengdu</td>\n",
       "    </tr>\n",
       "    <tr>\n",
       "      <th>5820</th>\n",
       "      <td>2016-03-30 21:14:58</td>\n",
       "      <td>159.203.76.169</td>\n",
       "      <td>United States</td>\n",
       "      <td>Auburn Hills</td>\n",
       "    </tr>\n",
       "    <tr>\n",
       "      <th>5821</th>\n",
       "      <td>2016-03-30 21:14:59</td>\n",
       "      <td>159.203.76.169</td>\n",
       "      <td>United States</td>\n",
       "      <td>Auburn Hills</td>\n",
       "    </tr>\n",
       "    <tr>\n",
       "      <th>5822</th>\n",
       "      <td>2016-03-30 21:14:59</td>\n",
       "      <td>159.203.76.169</td>\n",
       "      <td>United States</td>\n",
       "      <td>Auburn Hills</td>\n",
       "    </tr>\n",
       "    <tr>\n",
       "      <th>5823</th>\n",
       "      <td>2016-03-30 21:14:59</td>\n",
       "      <td>159.203.76.169</td>\n",
       "      <td>United States</td>\n",
       "      <td>Auburn Hills</td>\n",
       "    </tr>\n",
       "    <tr>\n",
       "      <th>5824</th>\n",
       "      <td>2016-03-30 21:14:59</td>\n",
       "      <td>159.203.76.169</td>\n",
       "      <td>United States</td>\n",
       "      <td>Auburn Hills</td>\n",
       "    </tr>\n",
       "    <tr>\n",
       "      <th>5825</th>\n",
       "      <td>2016-03-30 21:14:59</td>\n",
       "      <td>159.203.76.169</td>\n",
       "      <td>United States</td>\n",
       "      <td>Auburn Hills</td>\n",
       "    </tr>\n",
       "    <tr>\n",
       "      <th>5826</th>\n",
       "      <td>2016-03-31 02:38:18</td>\n",
       "      <td>113.240.250.156</td>\n",
       "      <td>China</td>\n",
       "      <td>Changsha</td>\n",
       "    </tr>\n",
       "    <tr>\n",
       "      <th>5827</th>\n",
       "      <td>2016-03-31 02:40:51</td>\n",
       "      <td>113.240.250.156</td>\n",
       "      <td>China</td>\n",
       "      <td>Changsha</td>\n",
       "    </tr>\n",
       "    <tr>\n",
       "      <th>5828</th>\n",
       "      <td>2016-03-31 02:40:52</td>\n",
       "      <td>113.240.250.156</td>\n",
       "      <td>China</td>\n",
       "      <td>Changsha</td>\n",
       "    </tr>\n",
       "    <tr>\n",
       "      <th>5829</th>\n",
       "      <td>2016-03-31 02:41:25</td>\n",
       "      <td>113.240.250.156</td>\n",
       "      <td>China</td>\n",
       "      <td>Changsha</td>\n",
       "    </tr>\n",
       "    <tr>\n",
       "      <th>5830</th>\n",
       "      <td>2016-03-31 03:48:00</td>\n",
       "      <td>104.36.16.202</td>\n",
       "      <td>United States</td>\n",
       "      <td>Palo Alto</td>\n",
       "    </tr>\n",
       "    <tr>\n",
       "      <th>5843</th>\n",
       "      <td>2016-03-31 09:06:22</td>\n",
       "      <td>52.31.166.88</td>\n",
       "      <td>United States</td>\n",
       "      <td>Wilmington</td>\n",
       "    </tr>\n",
       "    <tr>\n",
       "      <th>5937</th>\n",
       "      <td>2016-03-31 10:19:11</td>\n",
       "      <td>52.31.187.126</td>\n",
       "      <td>United States</td>\n",
       "      <td>Wilmington</td>\n",
       "    </tr>\n",
       "    <tr>\n",
       "      <th>5939</th>\n",
       "      <td>2016-03-31 10:19:47</td>\n",
       "      <td>66.249.93.155</td>\n",
       "      <td>United States</td>\n",
       "      <td>Mountain View</td>\n",
       "    </tr>\n",
       "    <tr>\n",
       "      <th>5940</th>\n",
       "      <td>2016-03-31 10:19:47</td>\n",
       "      <td>66.249.93.152</td>\n",
       "      <td>United States</td>\n",
       "      <td>Mountain View</td>\n",
       "    </tr>\n",
       "  </tbody>\n",
       "</table>\n",
       "<p>3886 rows × 4 columns</p>\n",
       "</div>"
      ],
      "text/plain": [
       "               time_stamp               ip        country           city\n",
       "0     2016-05-08 18:07:00     52.31.166.88  United States     Wilmington\n",
       "1     2016-05-09 01:00:58     52.31.166.88  United States     Wilmington\n",
       "2     2016-05-09 14:07:15     52.31.166.88  United States     Wilmington\n",
       "3     2016-05-10 02:08:05     52.31.166.88  United States     Wilmington\n",
       "4     2016-05-10 11:26:52    54.159.52.252  United States        Ashburn\n",
       "5     2016-05-10 14:01:57     52.31.166.88  United States     Wilmington\n",
       "6     2016-05-10 18:31:13    66.240.213.93  United States      San Diego\n",
       "7     2016-05-10 19:44:07    137.226.113.7        Germany         Aachen\n",
       "8     2016-05-10 23:08:30    191.96.249.20          Chile       Santiago\n",
       "9     2016-05-10 23:22:55    191.96.249.20          Chile       Santiago\n",
       "10    2016-05-10 23:40:30    191.96.249.20          Chile       Santiago\n",
       "11    2016-05-11 01:12:53     52.31.166.88  United States     Wilmington\n",
       "12    2016-05-11 10:37:01     169.229.3.91  United States       Berkeley\n",
       "28    2016-05-11 12:15:35    66.249.93.152  United States  Mountain View\n",
       "29    2016-05-11 12:15:35    66.249.93.152  United States  Mountain View\n",
       "30    2016-05-11 13:04:27  141.212.122.161  United States      Ann Arbor\n",
       "31    2016-05-11 13:04:27  141.212.122.161  United States      Ann Arbor\n",
       "32    2016-05-11 13:04:27     52.31.166.88  United States     Wilmington\n",
       "33    2016-05-11 19:02:32     52.31.166.88  United States     Wilmington\n",
       "34    2016-05-11 20:23:21    66.249.93.155  United States  Mountain View\n",
       "35    2016-05-11 21:36:38     52.51.71.162  United States     Wilmington\n",
       "36    2016-05-11 21:43:37     123.59.59.52          China        Beijing\n",
       "37    2016-05-11 21:43:37     123.59.59.52          China        Beijing\n",
       "47    2016-05-11 22:59:54  173.252.115.194  United States     Menlo Park\n",
       "48    2016-05-11 22:59:55   173.252.88.186  United States     Menlo Park\n",
       "49    2016-05-11 22:59:55  173.252.107.119  United States     Menlo Park\n",
       "50    2016-05-11 22:59:55  173.252.107.119  United States     Menlo Park\n",
       "51    2016-05-11 22:59:57     66.220.152.3  United States     Menlo Park\n",
       "52    2016-05-11 22:59:57    173.252.95.18  United States     Menlo Park\n",
       "76    2016-05-12 04:21:19     52.31.166.88  United States     Wilmington\n",
       "...                   ...              ...            ...            ...\n",
       "5805  2016-03-28 19:52:39     166.78.5.167  United States    San Antonio\n",
       "5806  2016-03-28 19:52:45     166.78.5.167  United States    San Antonio\n",
       "5807  2016-03-28 19:52:52     166.78.5.167  United States    San Antonio\n",
       "5808  2016-03-28 19:52:58     166.78.5.167  United States    San Antonio\n",
       "5809  2016-03-28 19:53:05     166.78.5.167  United States    San Antonio\n",
       "5810  2016-03-28 23:18:55   113.160.110.89        Vietnam          Hanoi\n",
       "5811  2016-03-29 00:39:35    54.165.171.43  United States        Ashburn\n",
       "5812  2016-03-29 09:00:26     54.81.171.53  United States        Ashburn\n",
       "5813  2016-03-29 12:46:10   54.255.191.246      Singapore      Singapore\n",
       "5814  2016-03-30 02:06:47     52.31.166.88  United States     Wilmington\n",
       "5815  2016-03-30 13:49:21    69.197.185.22  United States    Kansas City\n",
       "5816  2016-03-30 15:00:42      74.91.18.45  United States    Kansas City\n",
       "5817  2016-03-30 18:57:52    82.117.201.10         Serbia       Belgrade\n",
       "5818  2016-03-30 20:15:51     52.31.166.88  United States     Wilmington\n",
       "5819  2016-03-30 21:10:31   220.167.100.13          China        Chengdu\n",
       "5820  2016-03-30 21:14:58   159.203.76.169  United States   Auburn Hills\n",
       "5821  2016-03-30 21:14:59   159.203.76.169  United States   Auburn Hills\n",
       "5822  2016-03-30 21:14:59   159.203.76.169  United States   Auburn Hills\n",
       "5823  2016-03-30 21:14:59   159.203.76.169  United States   Auburn Hills\n",
       "5824  2016-03-30 21:14:59   159.203.76.169  United States   Auburn Hills\n",
       "5825  2016-03-30 21:14:59   159.203.76.169  United States   Auburn Hills\n",
       "5826  2016-03-31 02:38:18  113.240.250.156          China       Changsha\n",
       "5827  2016-03-31 02:40:51  113.240.250.156          China       Changsha\n",
       "5828  2016-03-31 02:40:52  113.240.250.156          China       Changsha\n",
       "5829  2016-03-31 02:41:25  113.240.250.156          China       Changsha\n",
       "5830  2016-03-31 03:48:00    104.36.16.202  United States      Palo Alto\n",
       "5843  2016-03-31 09:06:22     52.31.166.88  United States     Wilmington\n",
       "5937  2016-03-31 10:19:11    52.31.187.126  United States     Wilmington\n",
       "5939  2016-03-31 10:19:47    66.249.93.155  United States  Mountain View\n",
       "5940  2016-03-31 10:19:47    66.249.93.152  United States  Mountain View\n",
       "\n",
       "[3886 rows x 4 columns]"
      ]
     },
     "execution_count": 7,
     "metadata": {},
     "output_type": "execute_result"
    }
   ],
   "source": [
    "df_filtered = df[df['country'] !='Ireland']\n",
    "\n",
    "df_filtered"
   ]
  },
  {
   "cell_type": "code",
   "execution_count": 8,
   "metadata": {
    "collapsed": false
   },
   "outputs": [
    {
     "data": {
      "text/plain": [
       "count              3886\n",
       "unique              250\n",
       "top       222.255.46.55\n",
       "freq               1847\n",
       "Name: ip, dtype: object"
      ]
     },
     "execution_count": 8,
     "metadata": {},
     "output_type": "execute_result"
    }
   ],
   "source": [
    "df_filtered['ip'].describe()"
   ]
  },
  {
   "cell_type": "code",
   "execution_count": 9,
   "metadata": {
    "collapsed": false
   },
   "outputs": [
    {
     "data": {
      "text/plain": [
       "count                    3886\n",
       "unique                   2636\n",
       "top       2016-03-15 20:20:13\n",
       "freq                       82\n",
       "Name: time_stamp, dtype: object"
      ]
     },
     "execution_count": 9,
     "metadata": {},
     "output_type": "execute_result"
    }
   ],
   "source": [
    "df_filtered['time_stamp'].describe()"
   ]
  },
  {
   "cell_type": "code",
   "execution_count": 10,
   "metadata": {
    "collapsed": false
   },
   "outputs": [
    {
     "data": {
      "text/plain": [
       "count        3886\n",
       "unique         26\n",
       "top       Vietnam\n",
       "freq         1848\n",
       "Name: country, dtype: object"
      ]
     },
     "execution_count": 10,
     "metadata": {},
     "output_type": "execute_result"
    }
   ],
   "source": [
    "df_filtered['country'].describe()"
   ]
  },
  {
   "cell_type": "code",
   "execution_count": 11,
   "metadata": {
    "collapsed": false
   },
   "outputs": [
    {
     "data": {
      "text/plain": [
       "count      3886\n",
       "unique      125\n",
       "top       Hanoi\n",
       "freq       1848\n",
       "Name: city, dtype: object"
      ]
     },
     "execution_count": 11,
     "metadata": {},
     "output_type": "execute_result"
    }
   ],
   "source": [
    "df_filtered['city'].describe()"
   ]
  },
  {
   "cell_type": "code",
   "execution_count": 12,
   "metadata": {
    "collapsed": false
   },
   "outputs": [
    {
     "data": {
      "text/plain": [
       "time_stamp    object\n",
       "ip            object\n",
       "country       object\n",
       "city          object\n",
       "dtype: object"
      ]
     },
     "execution_count": 12,
     "metadata": {},
     "output_type": "execute_result"
    }
   ],
   "source": [
    "df_filtered.dtypes"
   ]
  },
  {
   "cell_type": "code",
   "execution_count": 13,
   "metadata": {
    "collapsed": false
   },
   "outputs": [
    {
     "data": {
      "text/html": [
       "<div>\n",
       "<table border=\"1\" class=\"dataframe\">\n",
       "  <thead>\n",
       "    <tr style=\"text-align: right;\">\n",
       "      <th></th>\n",
       "      <th>ip</th>\n",
       "      <th>country</th>\n",
       "    </tr>\n",
       "  </thead>\n",
       "  <tbody>\n",
       "    <tr>\n",
       "      <th>0</th>\n",
       "      <td>52.31.166.88</td>\n",
       "      <td>United States</td>\n",
       "    </tr>\n",
       "    <tr>\n",
       "      <th>1</th>\n",
       "      <td>52.31.166.88</td>\n",
       "      <td>United States</td>\n",
       "    </tr>\n",
       "    <tr>\n",
       "      <th>2</th>\n",
       "      <td>52.31.166.88</td>\n",
       "      <td>United States</td>\n",
       "    </tr>\n",
       "    <tr>\n",
       "      <th>3</th>\n",
       "      <td>52.31.166.88</td>\n",
       "      <td>United States</td>\n",
       "    </tr>\n",
       "    <tr>\n",
       "      <th>4</th>\n",
       "      <td>54.159.52.252</td>\n",
       "      <td>United States</td>\n",
       "    </tr>\n",
       "  </tbody>\n",
       "</table>\n",
       "</div>"
      ],
      "text/plain": [
       "              ip        country\n",
       "0   52.31.166.88  United States\n",
       "1   52.31.166.88  United States\n",
       "2   52.31.166.88  United States\n",
       "3   52.31.166.88  United States\n",
       "4  54.159.52.252  United States"
      ]
     },
     "execution_count": 13,
     "metadata": {},
     "output_type": "execute_result"
    }
   ],
   "source": [
    "visitors = df_filtered[['ip', 'country']]\n",
    "visitors.head()"
   ]
  },
  {
   "cell_type": "code",
   "execution_count": 14,
   "metadata": {
    "collapsed": false
   },
   "outputs": [
    {
     "data": {
      "text/plain": [
       "country\n",
       "Argentina               8\n",
       "Australia               7\n",
       "Canada                 18\n",
       "Chile                   3\n",
       "China                  92\n",
       "Ecuador                 2\n",
       "France                  9\n",
       "Germany                 4\n",
       "Greece                585\n",
       "India                   1\n",
       "Indonesia               1\n",
       "Italy                   1\n",
       "Japan                   1\n",
       "Mexico                  4\n",
       "Netherlands             9\n",
       "Peru                    2\n",
       "Republic of Korea       1\n",
       "Russia                 41\n",
       "Serbia                  1\n",
       "Singapore               1\n",
       "South Africa            6\n",
       "Sweden                  9\n",
       "Taiwan                  1\n",
       "United Kingdom        228\n",
       "United States        1003\n",
       "Vietnam              1848\n",
       "dtype: int64"
      ]
     },
     "execution_count": 14,
     "metadata": {},
     "output_type": "execute_result"
    }
   ],
   "source": [
    "visitor_group = visitors.groupby('country')\n",
    "total_visitors = visitor_group.size()\n",
    "total_visitors"
   ]
  },
  {
   "cell_type": "code",
   "execution_count": 15,
   "metadata": {
    "collapsed": false
   },
   "outputs": [
    {
     "data": {
      "text/plain": [
       "<matplotlib.text.Text at 0x960c0b8>"
      ]
     },
     "execution_count": 15,
     "metadata": {},
     "output_type": "execute_result"
    },
    {
     "data": {
      "image/png": "[encoded data removed]",
      "text/plain": [
       "<matplotlib.figure.Figure at 0x9491fd0>"
      ]
     },
     "metadata": {},
     "output_type": "display_data"
    }
   ],
   "source": [
    "df_filtered.country.value_counts().plot(kind='barh')\n",
    "plt.title('Number of appearances in dataset')\n",
    "plt.xlabel('Frequency')"
   ]
  },
  {
   "cell_type": "code",
   "execution_count": 16,
   "metadata": {
    "collapsed": false
   },
   "outputs": [
    {
     "data": {
      "text/plain": [
       "<matplotlib.text.Text at 0x9491080>"
      ]
     },
     "execution_count": 16,
     "metadata": {},
     "output_type": "execute_result"
    },
    {
     "data": {
      "image/png": "[encoded data removed]",
      "text/plain": [
       "<matplotlib.figure.Figure at 0xa003908>"
      ]
     },
     "metadata": {},
     "output_type": "display_data"
    }
   ],
   "source": [
    "df_filtered.country.value_counts().plot(kind='barh', figsize=(10,10))\n",
    "plt.title('Number of appearances in dataset')\n",
    "plt.xlabel('Frequency')"
   ]
  },
  {
   "cell_type": "code",
   "execution_count": 17,
   "metadata": {
    "collapsed": false
   },
   "outputs": [
    {
     "data": {
      "text/plain": [
       "([<matplotlib.patches.Wedge at 0xa60b978>,\n",
       "  <matplotlib.patches.Wedge at 0xa61b198>,\n",
       "  <matplotlib.patches.Wedge at 0xa61b9e8>,\n",
       "  <matplotlib.patches.Wedge at 0xa628278>,\n",
       "  <matplotlib.patches.Wedge at 0xa628ac8>,\n",
       "  <matplotlib.patches.Wedge at 0xa637358>,\n",
       "  <matplotlib.patches.Wedge at 0xa637ba8>,\n",
       "  <matplotlib.patches.Wedge at 0xa646438>,\n",
       "  <matplotlib.patches.Wedge at 0xa646c88>],\n",
       " [<matplotlib.text.Text at 0xa40ce48>,\n",
       "  <matplotlib.text.Text at 0xa61b6a0>,\n",
       "  <matplotlib.text.Text at 0xa61bef0>,\n",
       "  <matplotlib.text.Text at 0xa628780>,\n",
       "  <matplotlib.text.Text at 0xa628fd0>,\n",
       "  <matplotlib.text.Text at 0xa637860>,\n",
       "  <matplotlib.text.Text at 0xa6460f0>,\n",
       "  <matplotlib.text.Text at 0xa646940>,\n",
       "  <matplotlib.text.Text at 0xa6531d0>])"
      ]
     },
     "execution_count": 17,
     "metadata": {},
     "output_type": "execute_result"
    },
    {
     "data": {
      "image/png": "[encoded data removed]",
      "text/plain": [
       "<matplotlib.figure.Figure at 0xa40c908>"
      ]
     },
     "metadata": {},
     "output_type": "display_data"
    }
   ],
   "source": [
    "ax12 = plt.subplot2grid((2,2), (0,1))\n",
    "labels = [\"bewarfefvl\",\"easdfgvagfvd\",\"asasdfve.sd\",\n",
    "              \"rgdegaf\",\"adfewga\",\"qargw\",\"qaerghrttw\",\"errrrd\",\"ejjjjd\"]\n",
    "ax12.pie( [10,20,30,5,5,6,4,10,10], [0,0,0.0,0.1,0.3,.5,0,0,0], \n",
    "                          labels = labels, labeldistance=1.2)"
   ]
  },
  {
   "cell_type": "code",
   "execution_count": null,
   "metadata": {
    "collapsed": true
   },
   "outputs": [],
   "source": []
  }
 ],
 "metadata": {
  "kernelspec": {
   "display_name": "Python 2",
   "language": "python",
   "name": "python2"
  },
  "language_info": {
   "codemirror_mode": {
    "name": "ipython",
    "version": 2
   },
   "file_extension": ".py",
   "mimetype": "text/x-python",
   "name": "python",
   "nbconvert_exporter": "python",
   "pygments_lexer": "ipython2",
   "version": "2.7.11"
  }
 },
 "nbformat": 4,
 "nbformat_minor": 0
}
