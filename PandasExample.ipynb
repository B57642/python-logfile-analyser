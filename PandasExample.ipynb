{
 "cells": [
  {
   "cell_type": "code",
   "execution_count": 32,
   "metadata": {
    "collapsed": false
   },
   "outputs": [],
   "source": [
    "import pandas as pd\n",
    "import numpy as np\n",
    "import matplotlib.pyplot as plt\n",
    "\n",
    "%matplotlib inline\n",
    "\n",
    "iplist = pd.read_csv(\"iplocation.csv\")\n",
    "df = pd.DataFrame(iplist)\n",
    "\n",
    "df.columns = ['time_stamp', 'ip', 'country', 'city']"
   ]
  },
  {
   "cell_type": "code",
   "execution_count": 33,
   "metadata": {
    "collapsed": false
   },
   "outputs": [
    {
     "data": {
      "text/html": [
       "<div>\n",
       "<table border=\"1\" class=\"dataframe\">\n",
       "  <thead>\n",
       "    <tr style=\"text-align: right;\">\n",
       "      <th></th>\n",
       "      <th>time_stamp</th>\n",
       "      <th>ip</th>\n",
       "      <th>country</th>\n",
       "      <th>city</th>\n",
       "    </tr>\n",
       "  </thead>\n",
       "  <tbody>\n",
       "    <tr>\n",
       "      <th>0</th>\n",
       "      <td>2016-05-01 11:49:40</td>\n",
       "      <td>221.195.1.140</td>\n",
       "      <td>China</td>\n",
       "      <td>Hebei</td>\n",
       "    </tr>\n",
       "    <tr>\n",
       "      <th>1</th>\n",
       "      <td>2016-05-01 15:32:13</td>\n",
       "      <td>123.59.59.52</td>\n",
       "      <td>China</td>\n",
       "      <td>Beijing</td>\n",
       "    </tr>\n",
       "    <tr>\n",
       "      <th>2</th>\n",
       "      <td>2016-05-01 15:32:14</td>\n",
       "      <td>123.59.59.52</td>\n",
       "      <td>China</td>\n",
       "      <td>Beijing</td>\n",
       "    </tr>\n",
       "    <tr>\n",
       "      <th>3</th>\n",
       "      <td>2016-05-01 15:32:13</td>\n",
       "      <td>52.31.166.88</td>\n",
       "      <td>United States</td>\n",
       "      <td>Wilmington</td>\n",
       "    </tr>\n",
       "    <tr>\n",
       "      <th>4</th>\n",
       "      <td>2016-05-01 19:55:59</td>\n",
       "      <td>5.153.54.179</td>\n",
       "      <td>Netherlands</td>\n",
       "      <td>Amsterdam</td>\n",
       "    </tr>\n",
       "  </tbody>\n",
       "</table>\n",
       "</div>"
      ],
      "text/plain": [
       "            time_stamp             ip        country        city\n",
       "0  2016-05-01 11:49:40  221.195.1.140          China       Hebei\n",
       "1  2016-05-01 15:32:13   123.59.59.52          China     Beijing\n",
       "2  2016-05-01 15:32:14   123.59.59.52          China     Beijing\n",
       "3  2016-05-01 15:32:13   52.31.166.88  United States  Wilmington\n",
       "4  2016-05-01 19:55:59   5.153.54.179    Netherlands   Amsterdam"
      ]
     },
     "execution_count": 33,
     "metadata": {},
     "output_type": "execute_result"
    }
   ],
   "source": [
    "df.head()"
   ]
  },
  {
   "cell_type": "code",
   "execution_count": 34,
   "metadata": {
    "collapsed": false
   },
   "outputs": [
    {
     "data": {
      "text/html": [
       "<div>\n",
       "<table border=\"1\" class=\"dataframe\">\n",
       "  <thead>\n",
       "    <tr style=\"text-align: right;\">\n",
       "      <th></th>\n",
       "      <th>time_stamp</th>\n",
       "      <th>ip</th>\n",
       "      <th>country</th>\n",
       "      <th>city</th>\n",
       "    </tr>\n",
       "  </thead>\n",
       "  <tbody>\n",
       "    <tr>\n",
       "      <th>5731</th>\n",
       "      <td>2016-03-19 22:28:02</td>\n",
       "      <td>94.185.83.100</td>\n",
       "      <td>Sweden</td>\n",
       "      <td>Stockholm</td>\n",
       "    </tr>\n",
       "    <tr>\n",
       "      <th>5732</th>\n",
       "      <td>2016-03-20 01:16:19</td>\n",
       "      <td>174.36.243.20</td>\n",
       "      <td>United States</td>\n",
       "      <td>Washington</td>\n",
       "    </tr>\n",
       "    <tr>\n",
       "      <th>5733</th>\n",
       "      <td>2016-03-20 01:50:10</td>\n",
       "      <td>64.113.32.29</td>\n",
       "      <td>United States</td>\n",
       "      <td>Saginaw</td>\n",
       "    </tr>\n",
       "    <tr>\n",
       "      <th>5734</th>\n",
       "      <td>2016-03-20 01:50:14</td>\n",
       "      <td>204.13.201.137</td>\n",
       "      <td>United States</td>\n",
       "      <td>Wilmington</td>\n",
       "    </tr>\n",
       "    <tr>\n",
       "      <th>5735</th>\n",
       "      <td>2016-03-20 02:20:33</td>\n",
       "      <td>107.181.174.84</td>\n",
       "      <td>United States</td>\n",
       "      <td>Atlanta</td>\n",
       "    </tr>\n",
       "  </tbody>\n",
       "</table>\n",
       "</div>"
      ],
      "text/plain": [
       "               time_stamp              ip        country        city\n",
       "5731  2016-03-19 22:28:02   94.185.83.100         Sweden   Stockholm\n",
       "5732  2016-03-20 01:16:19   174.36.243.20  United States  Washington\n",
       "5733  2016-03-20 01:50:10    64.113.32.29  United States     Saginaw\n",
       "5734  2016-03-20 01:50:14  204.13.201.137  United States  Wilmington\n",
       "5735  2016-03-20 02:20:33  107.181.174.84  United States     Atlanta"
      ]
     },
     "execution_count": 34,
     "metadata": {},
     "output_type": "execute_result"
    }
   ],
   "source": [
    "df.tail()"
   ]
  },
  {
   "cell_type": "code",
   "execution_count": 35,
   "metadata": {
    "collapsed": false
   },
   "outputs": [
    {
     "data": {
      "text/html": [
       "<div>\n",
       "<table border=\"1\" class=\"dataframe\">\n",
       "  <thead>\n",
       "    <tr style=\"text-align: right;\">\n",
       "      <th></th>\n",
       "      <th>time_stamp</th>\n",
       "      <th>ip</th>\n",
       "      <th>country</th>\n",
       "      <th>city</th>\n",
       "    </tr>\n",
       "  </thead>\n",
       "  <tbody>\n",
       "    <tr>\n",
       "      <th>0</th>\n",
       "      <td>2016-05-01 11:49:40</td>\n",
       "      <td>221.195.1.140</td>\n",
       "      <td>China</td>\n",
       "      <td>Hebei</td>\n",
       "    </tr>\n",
       "    <tr>\n",
       "      <th>1</th>\n",
       "      <td>2016-05-01 15:32:13</td>\n",
       "      <td>123.59.59.52</td>\n",
       "      <td>China</td>\n",
       "      <td>Beijing</td>\n",
       "    </tr>\n",
       "    <tr>\n",
       "      <th>2</th>\n",
       "      <td>2016-05-01 15:32:14</td>\n",
       "      <td>123.59.59.52</td>\n",
       "      <td>China</td>\n",
       "      <td>Beijing</td>\n",
       "    </tr>\n",
       "    <tr>\n",
       "      <th>3</th>\n",
       "      <td>2016-05-01 15:32:13</td>\n",
       "      <td>52.31.166.88</td>\n",
       "      <td>United States</td>\n",
       "      <td>Wilmington</td>\n",
       "    </tr>\n",
       "    <tr>\n",
       "      <th>4</th>\n",
       "      <td>2016-05-01 19:55:59</td>\n",
       "      <td>5.153.54.179</td>\n",
       "      <td>Netherlands</td>\n",
       "      <td>Amsterdam</td>\n",
       "    </tr>\n",
       "    <tr>\n",
       "      <th>5</th>\n",
       "      <td>2016-05-01 19:56:10</td>\n",
       "      <td>115.239.252.232</td>\n",
       "      <td>China</td>\n",
       "      <td>Shaoxing</td>\n",
       "    </tr>\n",
       "    <tr>\n",
       "      <th>6</th>\n",
       "      <td>2016-05-01 19:56:57</td>\n",
       "      <td>115.239.252.232</td>\n",
       "      <td>China</td>\n",
       "      <td>Shaoxing</td>\n",
       "    </tr>\n",
       "    <tr>\n",
       "      <th>7</th>\n",
       "      <td>2016-05-01 19:58:02</td>\n",
       "      <td>115.239.252.232</td>\n",
       "      <td>China</td>\n",
       "      <td>Shaoxing</td>\n",
       "    </tr>\n",
       "    <tr>\n",
       "      <th>8</th>\n",
       "      <td>2016-05-02 00:40:47</td>\n",
       "      <td>52.31.166.88</td>\n",
       "      <td>United States</td>\n",
       "      <td>Wilmington</td>\n",
       "    </tr>\n",
       "    <tr>\n",
       "      <th>9</th>\n",
       "      <td>2016-05-02 01:58:10</td>\n",
       "      <td>161.202.90.202</td>\n",
       "      <td>Japan</td>\n",
       "      <td>Tokyo</td>\n",
       "    </tr>\n",
       "    <tr>\n",
       "      <th>10</th>\n",
       "      <td>2016-05-02 06:06:53</td>\n",
       "      <td>92.222.246.137</td>\n",
       "      <td>France</td>\n",
       "      <td>Paris</td>\n",
       "    </tr>\n",
       "    <tr>\n",
       "      <th>11</th>\n",
       "      <td>2016-05-02 06:06:53</td>\n",
       "      <td>92.222.246.137</td>\n",
       "      <td>France</td>\n",
       "      <td>Paris</td>\n",
       "    </tr>\n",
       "    <tr>\n",
       "      <th>12</th>\n",
       "      <td>2016-05-02 14:23:51</td>\n",
       "      <td>52.31.166.88</td>\n",
       "      <td>United States</td>\n",
       "      <td>Wilmington</td>\n",
       "    </tr>\n",
       "    <tr>\n",
       "      <th>13</th>\n",
       "      <td>2016-05-02 15:41:03</td>\n",
       "      <td>69.197.185.22</td>\n",
       "      <td>United States</td>\n",
       "      <td>Kansas City</td>\n",
       "    </tr>\n",
       "    <tr>\n",
       "      <th>14</th>\n",
       "      <td>2016-05-03 01:29:37</td>\n",
       "      <td>52.31.166.88</td>\n",
       "      <td>United States</td>\n",
       "      <td>Wilmington</td>\n",
       "    </tr>\n",
       "    <tr>\n",
       "      <th>15</th>\n",
       "      <td>2016-05-03 06:53:12</td>\n",
       "      <td>141.212.122.145</td>\n",
       "      <td>United States</td>\n",
       "      <td>Ann Arbor</td>\n",
       "    </tr>\n",
       "    <tr>\n",
       "      <th>16</th>\n",
       "      <td>2016-05-03 06:53:12</td>\n",
       "      <td>141.212.122.145</td>\n",
       "      <td>United States</td>\n",
       "      <td>Ann Arbor</td>\n",
       "    </tr>\n",
       "    <tr>\n",
       "      <th>17</th>\n",
       "      <td>2016-05-03 08:57:48</td>\n",
       "      <td>61.216.2.13</td>\n",
       "      <td>Taiwan</td>\n",
       "      <td>Taipei</td>\n",
       "    </tr>\n",
       "    <tr>\n",
       "      <th>18</th>\n",
       "      <td>2016-05-03 14:06:43</td>\n",
       "      <td>52.31.166.88</td>\n",
       "      <td>United States</td>\n",
       "      <td>Wilmington</td>\n",
       "    </tr>\n",
       "    <tr>\n",
       "      <th>19</th>\n",
       "      <td>2016-05-03 16:14:49</td>\n",
       "      <td>64.16.209.235</td>\n",
       "      <td>United States</td>\n",
       "      <td>Norcross</td>\n",
       "    </tr>\n",
       "    <tr>\n",
       "      <th>20</th>\n",
       "      <td>2016-05-03 19:06:16</td>\n",
       "      <td>107.150.32.62</td>\n",
       "      <td>United States</td>\n",
       "      <td>Kansas City</td>\n",
       "    </tr>\n",
       "    <tr>\n",
       "      <th>21</th>\n",
       "      <td>2016-05-04 01:06:43</td>\n",
       "      <td>52.31.166.88</td>\n",
       "      <td>United States</td>\n",
       "      <td>Wilmington</td>\n",
       "    </tr>\n",
       "    <tr>\n",
       "      <th>22</th>\n",
       "      <td>2016-05-04 13:06:44</td>\n",
       "      <td>52.31.166.88</td>\n",
       "      <td>United States</td>\n",
       "      <td>Wilmington</td>\n",
       "    </tr>\n",
       "    <tr>\n",
       "      <th>23</th>\n",
       "      <td>2016-05-04 14:24:19</td>\n",
       "      <td>52.31.166.88</td>\n",
       "      <td>United States</td>\n",
       "      <td>Wilmington</td>\n",
       "    </tr>\n",
       "    <tr>\n",
       "      <th>24</th>\n",
       "      <td>2016-05-04 17:22:52</td>\n",
       "      <td>103.28.58.68</td>\n",
       "      <td>Indonesia</td>\n",
       "      <td>Jakarta</td>\n",
       "    </tr>\n",
       "    <tr>\n",
       "      <th>25</th>\n",
       "      <td>2016-05-04 17:31:56</td>\n",
       "      <td>42.159.144.101</td>\n",
       "      <td>China</td>\n",
       "      <td>Beijing</td>\n",
       "    </tr>\n",
       "    <tr>\n",
       "      <th>26</th>\n",
       "      <td>2016-05-05 01:06:44</td>\n",
       "      <td>52.31.166.88</td>\n",
       "      <td>United States</td>\n",
       "      <td>Wilmington</td>\n",
       "    </tr>\n",
       "    <tr>\n",
       "      <th>27</th>\n",
       "      <td>2016-05-05 04:35:34</td>\n",
       "      <td>198.20.69.74</td>\n",
       "      <td>United States</td>\n",
       "      <td>Chicago</td>\n",
       "    </tr>\n",
       "    <tr>\n",
       "      <th>28</th>\n",
       "      <td>2016-05-05 04:35:35</td>\n",
       "      <td>198.20.69.74</td>\n",
       "      <td>United States</td>\n",
       "      <td>Chicago</td>\n",
       "    </tr>\n",
       "    <tr>\n",
       "      <th>29</th>\n",
       "      <td>2016-05-05 04:35:35</td>\n",
       "      <td>198.20.69.74</td>\n",
       "      <td>United States</td>\n",
       "      <td>Chicago</td>\n",
       "    </tr>\n",
       "    <tr>\n",
       "      <th>...</th>\n",
       "      <td>...</td>\n",
       "      <td>...</td>\n",
       "      <td>...</td>\n",
       "      <td>...</td>\n",
       "    </tr>\n",
       "    <tr>\n",
       "      <th>5638</th>\n",
       "      <td>2016-03-18 02:13:01</td>\n",
       "      <td>46.101.164.90</td>\n",
       "      <td>Germany</td>\n",
       "      <td>Frankfurt am Main</td>\n",
       "    </tr>\n",
       "    <tr>\n",
       "      <th>5639</th>\n",
       "      <td>2016-03-18 10:33:23</td>\n",
       "      <td>192.74.237.28</td>\n",
       "      <td>United States</td>\n",
       "      <td>San Jose</td>\n",
       "    </tr>\n",
       "    <tr>\n",
       "      <th>5640</th>\n",
       "      <td>2016-03-18 10:33:23</td>\n",
       "      <td>192.74.237.28</td>\n",
       "      <td>United States</td>\n",
       "      <td>San Jose</td>\n",
       "    </tr>\n",
       "    <tr>\n",
       "      <th>5641</th>\n",
       "      <td>2016-03-18 10:33:23</td>\n",
       "      <td>192.74.237.28</td>\n",
       "      <td>United States</td>\n",
       "      <td>San Jose</td>\n",
       "    </tr>\n",
       "    <tr>\n",
       "      <th>5642</th>\n",
       "      <td>2016-03-18 10:50:22</td>\n",
       "      <td>222.186.58.164</td>\n",
       "      <td>China</td>\n",
       "      <td>Nanjing</td>\n",
       "    </tr>\n",
       "    <tr>\n",
       "      <th>5653</th>\n",
       "      <td>2016-03-18 12:27:49</td>\n",
       "      <td>52.31.166.88</td>\n",
       "      <td>United States</td>\n",
       "      <td>Wilmington</td>\n",
       "    </tr>\n",
       "    <tr>\n",
       "      <th>5670</th>\n",
       "      <td>2016-03-18 12:32:00</td>\n",
       "      <td>52.31.166.88</td>\n",
       "      <td>United States</td>\n",
       "      <td>Wilmington</td>\n",
       "    </tr>\n",
       "    <tr>\n",
       "      <th>5678</th>\n",
       "      <td>2016-03-18 12:43:05</td>\n",
       "      <td>52.31.166.88</td>\n",
       "      <td>United States</td>\n",
       "      <td>Wilmington</td>\n",
       "    </tr>\n",
       "    <tr>\n",
       "      <th>5712</th>\n",
       "      <td>2016-03-18 14:43:00</td>\n",
       "      <td>52.31.166.88</td>\n",
       "      <td>United States</td>\n",
       "      <td>Wilmington</td>\n",
       "    </tr>\n",
       "    <tr>\n",
       "      <th>5715</th>\n",
       "      <td>2016-03-18 16:40:07</td>\n",
       "      <td>202.109.143.16</td>\n",
       "      <td>China</td>\n",
       "      <td>Nanchang</td>\n",
       "    </tr>\n",
       "    <tr>\n",
       "      <th>5716</th>\n",
       "      <td>2016-03-18 16:40:07</td>\n",
       "      <td>202.109.143.16</td>\n",
       "      <td>China</td>\n",
       "      <td>Nanchang</td>\n",
       "    </tr>\n",
       "    <tr>\n",
       "      <th>5717</th>\n",
       "      <td>2016-03-18 16:40:08</td>\n",
       "      <td>202.109.143.16</td>\n",
       "      <td>China</td>\n",
       "      <td>Nanchang</td>\n",
       "    </tr>\n",
       "    <tr>\n",
       "      <th>5718</th>\n",
       "      <td>2016-03-18 16:40:08</td>\n",
       "      <td>202.109.143.16</td>\n",
       "      <td>China</td>\n",
       "      <td>Nanchang</td>\n",
       "    </tr>\n",
       "    <tr>\n",
       "      <th>5719</th>\n",
       "      <td>2016-03-18 16:40:09</td>\n",
       "      <td>202.109.143.16</td>\n",
       "      <td>China</td>\n",
       "      <td>Nanchang</td>\n",
       "    </tr>\n",
       "    <tr>\n",
       "      <th>5720</th>\n",
       "      <td>2016-03-18 16:48:12</td>\n",
       "      <td>198.20.69.74</td>\n",
       "      <td>United States</td>\n",
       "      <td>Chicago</td>\n",
       "    </tr>\n",
       "    <tr>\n",
       "      <th>5721</th>\n",
       "      <td>2016-03-18 16:48:12</td>\n",
       "      <td>198.20.69.74</td>\n",
       "      <td>United States</td>\n",
       "      <td>Chicago</td>\n",
       "    </tr>\n",
       "    <tr>\n",
       "      <th>5722</th>\n",
       "      <td>2016-03-18 16:48:12</td>\n",
       "      <td>198.20.69.74</td>\n",
       "      <td>United States</td>\n",
       "      <td>Chicago</td>\n",
       "    </tr>\n",
       "    <tr>\n",
       "      <th>5723</th>\n",
       "      <td>2016-03-18 17:56:09</td>\n",
       "      <td>141.212.122.209</td>\n",
       "      <td>United States</td>\n",
       "      <td>Ann Arbor</td>\n",
       "    </tr>\n",
       "    <tr>\n",
       "      <th>5724</th>\n",
       "      <td>2016-03-18 17:56:16</td>\n",
       "      <td>81.136.165.242</td>\n",
       "      <td>United Kingdom</td>\n",
       "      <td>London</td>\n",
       "    </tr>\n",
       "    <tr>\n",
       "      <th>5725</th>\n",
       "      <td>2016-03-18 17:56:17</td>\n",
       "      <td>81.136.165.242</td>\n",
       "      <td>United Kingdom</td>\n",
       "      <td>London</td>\n",
       "    </tr>\n",
       "    <tr>\n",
       "      <th>5726</th>\n",
       "      <td>2016-03-18 17:56:18</td>\n",
       "      <td>81.136.165.242</td>\n",
       "      <td>United Kingdom</td>\n",
       "      <td>London</td>\n",
       "    </tr>\n",
       "    <tr>\n",
       "      <th>5727</th>\n",
       "      <td>2016-03-18 17:56:18</td>\n",
       "      <td>81.136.165.242</td>\n",
       "      <td>United Kingdom</td>\n",
       "      <td>London</td>\n",
       "    </tr>\n",
       "    <tr>\n",
       "      <th>5728</th>\n",
       "      <td>2016-03-19 07:36:27</td>\n",
       "      <td>201.173.120.203</td>\n",
       "      <td>Mexico</td>\n",
       "      <td>Monterrey</td>\n",
       "    </tr>\n",
       "    <tr>\n",
       "      <th>5729</th>\n",
       "      <td>2016-03-19 07:36:30</td>\n",
       "      <td>201.173.120.203</td>\n",
       "      <td>Mexico</td>\n",
       "      <td>Monterrey</td>\n",
       "    </tr>\n",
       "    <tr>\n",
       "      <th>5730</th>\n",
       "      <td>2016-03-19 21:35:13</td>\n",
       "      <td>46.101.104.30</td>\n",
       "      <td>Netherlands</td>\n",
       "      <td>Amsterdam</td>\n",
       "    </tr>\n",
       "    <tr>\n",
       "      <th>5731</th>\n",
       "      <td>2016-03-19 22:28:02</td>\n",
       "      <td>94.185.83.100</td>\n",
       "      <td>Sweden</td>\n",
       "      <td>Stockholm</td>\n",
       "    </tr>\n",
       "    <tr>\n",
       "      <th>5732</th>\n",
       "      <td>2016-03-20 01:16:19</td>\n",
       "      <td>174.36.243.20</td>\n",
       "      <td>United States</td>\n",
       "      <td>Washington</td>\n",
       "    </tr>\n",
       "    <tr>\n",
       "      <th>5733</th>\n",
       "      <td>2016-03-20 01:50:10</td>\n",
       "      <td>64.113.32.29</td>\n",
       "      <td>United States</td>\n",
       "      <td>Saginaw</td>\n",
       "    </tr>\n",
       "    <tr>\n",
       "      <th>5734</th>\n",
       "      <td>2016-03-20 01:50:14</td>\n",
       "      <td>204.13.201.137</td>\n",
       "      <td>United States</td>\n",
       "      <td>Wilmington</td>\n",
       "    </tr>\n",
       "    <tr>\n",
       "      <th>5735</th>\n",
       "      <td>2016-03-20 02:20:33</td>\n",
       "      <td>107.181.174.84</td>\n",
       "      <td>United States</td>\n",
       "      <td>Atlanta</td>\n",
       "    </tr>\n",
       "  </tbody>\n",
       "</table>\n",
       "<p>3845 rows × 4 columns</p>\n",
       "</div>"
      ],
      "text/plain": [
       "               time_stamp               ip         country               city\n",
       "0     2016-05-01 11:49:40    221.195.1.140           China              Hebei\n",
       "1     2016-05-01 15:32:13     123.59.59.52           China            Beijing\n",
       "2     2016-05-01 15:32:14     123.59.59.52           China            Beijing\n",
       "3     2016-05-01 15:32:13     52.31.166.88   United States         Wilmington\n",
       "4     2016-05-01 19:55:59     5.153.54.179     Netherlands          Amsterdam\n",
       "5     2016-05-01 19:56:10  115.239.252.232           China           Shaoxing\n",
       "6     2016-05-01 19:56:57  115.239.252.232           China           Shaoxing\n",
       "7     2016-05-01 19:58:02  115.239.252.232           China           Shaoxing\n",
       "8     2016-05-02 00:40:47     52.31.166.88   United States         Wilmington\n",
       "9     2016-05-02 01:58:10   161.202.90.202           Japan              Tokyo\n",
       "10    2016-05-02 06:06:53   92.222.246.137          France              Paris\n",
       "11    2016-05-02 06:06:53   92.222.246.137          France              Paris\n",
       "12    2016-05-02 14:23:51     52.31.166.88   United States         Wilmington\n",
       "13    2016-05-02 15:41:03    69.197.185.22   United States        Kansas City\n",
       "14    2016-05-03 01:29:37     52.31.166.88   United States         Wilmington\n",
       "15    2016-05-03 06:53:12  141.212.122.145   United States          Ann Arbor\n",
       "16    2016-05-03 06:53:12  141.212.122.145   United States          Ann Arbor\n",
       "17    2016-05-03 08:57:48      61.216.2.13          Taiwan             Taipei\n",
       "18    2016-05-03 14:06:43     52.31.166.88   United States         Wilmington\n",
       "19    2016-05-03 16:14:49    64.16.209.235   United States           Norcross\n",
       "20    2016-05-03 19:06:16    107.150.32.62   United States        Kansas City\n",
       "21    2016-05-04 01:06:43     52.31.166.88   United States         Wilmington\n",
       "22    2016-05-04 13:06:44     52.31.166.88   United States         Wilmington\n",
       "23    2016-05-04 14:24:19     52.31.166.88   United States         Wilmington\n",
       "24    2016-05-04 17:22:52     103.28.58.68       Indonesia            Jakarta\n",
       "25    2016-05-04 17:31:56   42.159.144.101           China            Beijing\n",
       "26    2016-05-05 01:06:44     52.31.166.88   United States         Wilmington\n",
       "27    2016-05-05 04:35:34     198.20.69.74   United States            Chicago\n",
       "28    2016-05-05 04:35:35     198.20.69.74   United States            Chicago\n",
       "29    2016-05-05 04:35:35     198.20.69.74   United States            Chicago\n",
       "...                   ...              ...             ...                ...\n",
       "5638  2016-03-18 02:13:01    46.101.164.90         Germany  Frankfurt am Main\n",
       "5639  2016-03-18 10:33:23    192.74.237.28   United States           San Jose\n",
       "5640  2016-03-18 10:33:23    192.74.237.28   United States           San Jose\n",
       "5641  2016-03-18 10:33:23    192.74.237.28   United States           San Jose\n",
       "5642  2016-03-18 10:50:22   222.186.58.164           China            Nanjing\n",
       "5653  2016-03-18 12:27:49     52.31.166.88   United States         Wilmington\n",
       "5670  2016-03-18 12:32:00     52.31.166.88   United States         Wilmington\n",
       "5678  2016-03-18 12:43:05     52.31.166.88   United States         Wilmington\n",
       "5712  2016-03-18 14:43:00     52.31.166.88   United States         Wilmington\n",
       "5715  2016-03-18 16:40:07   202.109.143.16           China           Nanchang\n",
       "5716  2016-03-18 16:40:07   202.109.143.16           China           Nanchang\n",
       "5717  2016-03-18 16:40:08   202.109.143.16           China           Nanchang\n",
       "5718  2016-03-18 16:40:08   202.109.143.16           China           Nanchang\n",
       "5719  2016-03-18 16:40:09   202.109.143.16           China           Nanchang\n",
       "5720  2016-03-18 16:48:12     198.20.69.74   United States            Chicago\n",
       "5721  2016-03-18 16:48:12     198.20.69.74   United States            Chicago\n",
       "5722  2016-03-18 16:48:12     198.20.69.74   United States            Chicago\n",
       "5723  2016-03-18 17:56:09  141.212.122.209   United States          Ann Arbor\n",
       "5724  2016-03-18 17:56:16   81.136.165.242  United Kingdom             London\n",
       "5725  2016-03-18 17:56:17   81.136.165.242  United Kingdom             London\n",
       "5726  2016-03-18 17:56:18   81.136.165.242  United Kingdom             London\n",
       "5727  2016-03-18 17:56:18   81.136.165.242  United Kingdom             London\n",
       "5728  2016-03-19 07:36:27  201.173.120.203          Mexico          Monterrey\n",
       "5729  2016-03-19 07:36:30  201.173.120.203          Mexico          Monterrey\n",
       "5730  2016-03-19 21:35:13    46.101.104.30     Netherlands          Amsterdam\n",
       "5731  2016-03-19 22:28:02    94.185.83.100          Sweden          Stockholm\n",
       "5732  2016-03-20 01:16:19    174.36.243.20   United States         Washington\n",
       "5733  2016-03-20 01:50:10     64.113.32.29   United States            Saginaw\n",
       "5734  2016-03-20 01:50:14   204.13.201.137   United States         Wilmington\n",
       "5735  2016-03-20 02:20:33   107.181.174.84   United States            Atlanta\n",
       "\n",
       "[3845 rows x 4 columns]"
      ]
     },
     "execution_count": 35,
     "metadata": {},
     "output_type": "execute_result"
    }
   ],
   "source": [
    "df_filtered = df[df['country'] !='Ireland']\n",
    "\n",
    "df_filtered"
   ]
  },
  {
   "cell_type": "code",
   "execution_count": 36,
   "metadata": {
    "collapsed": false
   },
   "outputs": [
    {
     "data": {
      "text/plain": [
       "count              3845\n",
       "unique              235\n",
       "top       222.255.46.55\n",
       "freq               1847\n",
       "Name: ip, dtype: object"
      ]
     },
     "execution_count": 36,
     "metadata": {},
     "output_type": "execute_result"
    }
   ],
   "source": [
    "df_filtered['ip'].describe()"
   ]
  },
  {
   "cell_type": "code",
   "execution_count": 39,
   "metadata": {
    "collapsed": false
   },
   "outputs": [
    {
     "data": {
      "text/plain": [
       "count                    3845\n",
       "unique                   2603\n",
       "top       2016-03-15 20:20:13\n",
       "freq                       82\n",
       "Name: time_stamp, dtype: object"
      ]
     },
     "execution_count": 39,
     "metadata": {},
     "output_type": "execute_result"
    }
   ],
   "source": [
    "df_filtered['time_stamp'].describe()"
   ]
  },
  {
   "cell_type": "code",
   "execution_count": 40,
   "metadata": {
    "collapsed": false
   },
   "outputs": [
    {
     "data": {
      "text/plain": [
       "count        3845\n",
       "unique         25\n",
       "top       Vietnam\n",
       "freq         1848\n",
       "Name: country, dtype: object"
      ]
     },
     "execution_count": 40,
     "metadata": {},
     "output_type": "execute_result"
    }
   ],
   "source": [
    "df_filtered['country'].describe()"
   ]
  },
  {
   "cell_type": "code",
   "execution_count": 41,
   "metadata": {
    "collapsed": false
   },
   "outputs": [
    {
     "data": {
      "text/plain": [
       "count      3845\n",
       "unique      122\n",
       "top       Hanoi\n",
       "freq       1848\n",
       "Name: city, dtype: object"
      ]
     },
     "execution_count": 41,
     "metadata": {},
     "output_type": "execute_result"
    }
   ],
   "source": [
    "df_filtered['city'].describe()"
   ]
  },
  {
   "cell_type": "code",
   "execution_count": 42,
   "metadata": {
    "collapsed": false
   },
   "outputs": [
    {
     "data": {
      "text/plain": [
       "time_stamp    object\n",
       "ip            object\n",
       "country       object\n",
       "city          object\n",
       "dtype: object"
      ]
     },
     "execution_count": 42,
     "metadata": {},
     "output_type": "execute_result"
    }
   ],
   "source": [
    "df_filtered.dtypes"
   ]
  },
  {
   "cell_type": "code",
   "execution_count": 43,
   "metadata": {
    "collapsed": false
   },
   "outputs": [
    {
     "data": {
      "text/html": [
       "<div>\n",
       "<table border=\"1\" class=\"dataframe\">\n",
       "  <thead>\n",
       "    <tr style=\"text-align: right;\">\n",
       "      <th></th>\n",
       "      <th>ip</th>\n",
       "      <th>country</th>\n",
       "    </tr>\n",
       "  </thead>\n",
       "  <tbody>\n",
       "    <tr>\n",
       "      <th>0</th>\n",
       "      <td>221.195.1.140</td>\n",
       "      <td>China</td>\n",
       "    </tr>\n",
       "    <tr>\n",
       "      <th>1</th>\n",
       "      <td>123.59.59.52</td>\n",
       "      <td>China</td>\n",
       "    </tr>\n",
       "    <tr>\n",
       "      <th>2</th>\n",
       "      <td>123.59.59.52</td>\n",
       "      <td>China</td>\n",
       "    </tr>\n",
       "    <tr>\n",
       "      <th>3</th>\n",
       "      <td>52.31.166.88</td>\n",
       "      <td>United States</td>\n",
       "    </tr>\n",
       "    <tr>\n",
       "      <th>4</th>\n",
       "      <td>5.153.54.179</td>\n",
       "      <td>Netherlands</td>\n",
       "    </tr>\n",
       "  </tbody>\n",
       "</table>\n",
       "</div>"
      ],
      "text/plain": [
       "              ip        country\n",
       "0  221.195.1.140          China\n",
       "1   123.59.59.52          China\n",
       "2   123.59.59.52          China\n",
       "3   52.31.166.88  United States\n",
       "4   5.153.54.179    Netherlands"
      ]
     },
     "execution_count": 43,
     "metadata": {},
     "output_type": "execute_result"
    }
   ],
   "source": [
    "visitors = df_filtered[['ip', 'country']]\n",
    "visitors.head()"
   ]
  },
  {
   "cell_type": "code",
   "execution_count": 44,
   "metadata": {
    "collapsed": false
   },
   "outputs": [
    {
     "data": {
      "text/plain": [
       "country\n",
       "Argentina               8\n",
       "Australia               7\n",
       "Canada                 18\n",
       "China                  90\n",
       "Ecuador                 2\n",
       "France                  9\n",
       "Germany                 3\n",
       "Greece                585\n",
       "India                   1\n",
       "Indonesia               1\n",
       "Italy                   1\n",
       "Japan                   1\n",
       "Mexico                  4\n",
       "Netherlands             9\n",
       "Peru                    2\n",
       "Republic of Korea       1\n",
       "Russia                 41\n",
       "Serbia                  1\n",
       "Singapore               1\n",
       "South Africa            6\n",
       "Sweden                  9\n",
       "Taiwan                  1\n",
       "United Kingdom        228\n",
       "United States         968\n",
       "Vietnam              1848\n",
       "dtype: int64"
      ]
     },
     "execution_count": 44,
     "metadata": {},
     "output_type": "execute_result"
    }
   ],
   "source": [
    "visitor_group = visitors.groupby('country')\n",
    "total_visitors = visitor_group.size()\n",
    "total_visitors"
   ]
  },
  {
   "cell_type": "code",
   "execution_count": 76,
   "metadata": {
    "collapsed": false
   },
   "outputs": [
    {
     "data": {
      "text/plain": [
       "<matplotlib.text.Text at 0x119f6fd0>"
      ]
     },
     "execution_count": 76,
     "metadata": {},
     "output_type": "execute_result"
    },
    {
     "data": {
      "image/png": "[encoded data removed]",
      "text/plain": [
       "<matplotlib.figure.Figure at 0x11bf27f0>"
      ]
     },
     "metadata": {},
     "output_type": "display_data"
    }
   ],
   "source": [
    "df_filtered.country.value_counts().plot(kind='barh')\n",
    "plt.title('Number of appearances in dataset')\n",
    "plt.xlabel('Frequency')"
   ]
  },
  {
   "cell_type": "code",
   "execution_count": 79,
   "metadata": {
    "collapsed": false
   },
   "outputs": [
    {
     "data": {
      "text/plain": [
       "<matplotlib.text.Text at 0x11d8ae10>"
      ]
     },
     "execution_count": 79,
     "metadata": {},
     "output_type": "execute_result"
    },
    {
     "data": {
      "image/png": "[encoded data removed]",
      "text/plain": [
       "<matplotlib.figure.Figure at 0x11dbd400>"
      ]
     },
     "metadata": {},
     "output_type": "display_data"
    }
   ],
   "source": [
    "df_filtered.country.value_counts().plot(kind='barh', figsize=(10,10))\n",
    "plt.title('Number of appearances in dataset')\n",
    "plt.xlabel('Frequency')"
   ]
  },
  {
   "cell_type": "code",
   "execution_count": 63,
   "metadata": {
    "collapsed": false
   },
   "outputs": [
    {
     "data": {
      "text/plain": [
       "([<matplotlib.patches.Wedge at 0xeba1470>,\n",
       "  <matplotlib.patches.Wedge at 0xeba1cf8>,\n",
       "  <matplotlib.patches.Wedge at 0xec73588>,\n",
       "  <matplotlib.patches.Wedge at 0xec73dd8>,\n",
       "  <matplotlib.patches.Wedge at 0xec81668>,\n",
       "  <matplotlib.patches.Wedge at 0xec81eb8>,\n",
       "  <matplotlib.patches.Wedge at 0xec8d748>,\n",
       "  <matplotlib.patches.Wedge at 0xec8df98>,\n",
       "  <matplotlib.patches.Wedge at 0xec9b828>],\n",
       " [<matplotlib.text.Text at 0xeba1978>,\n",
       "  <matplotlib.text.Text at 0xeba1a58>,\n",
       "  <matplotlib.text.Text at 0xec73ac8>,\n",
       "  <matplotlib.text.Text at 0xec73b38>,\n",
       "  <matplotlib.text.Text at 0xec81ba8>,\n",
       "  <matplotlib.text.Text at 0xec81c18>,\n",
       "  <matplotlib.text.Text at 0xec8dc88>,\n",
       "  <matplotlib.text.Text at 0xec8dcf8>,\n",
       "  <matplotlib.text.Text at 0xec9bd68>])"
      ]
     },
     "execution_count": 63,
     "metadata": {},
     "output_type": "execute_result"
    },
    {
     "data": {
      "image/png": "[encoded data removed]",
      "text/plain": [
       "<matplotlib.figure.Figure at 0xe7e2b70>"
      ]
     },
     "metadata": {},
     "output_type": "display_data"
    }
   ],
   "source": [
    "ax12 = plt.subplot2grid((2,2), (0,1))\n",
    "labels = [\"bewarfefvl\",\"easdfgvagfvd\",\"asasdfve.sd\",\n",
    "              \"rgdegaf\",\"adfewga\",\"qargw\",\"qaerghrttw\",\"errrrd\",\"ejjjjd\"]\n",
    "ax12.pie( [10,20,30,5,5,6,4,10,10], [0,0,0.0,0.1,0.3,.5,0,0,0], \n",
    "                          labels = labels, labeldistance=1.2)"
   ]
  }
 ],
 "metadata": {
  "kernelspec": {
   "display_name": "Python 2",
   "language": "python",
   "name": "python2"
  },
  "language_info": {
   "codemirror_mode": {
    "name": "ipython",
    "version": 2
   },
   "file_extension": ".py",
   "mimetype": "text/x-python",
   "name": "python",
   "nbconvert_exporter": "python",
   "pygments_lexer": "ipython2",
   "version": "2.7.11"
  }
 },
 "nbformat": 4,
 "nbformat_minor": 0
}
