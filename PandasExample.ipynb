{
 "cells": [
  {
   "cell_type": "code",
   "execution_count": 1,
   "metadata": {
    "collapsed": false
   },
   "outputs": [],
   "source": [
    "import pandas as pd\n",
    "import numpy as np\n",
    "import matplotlib.pyplot as plt\n",
    "\n",
    "%matplotlib inline\n",
    "\n",
    "iplist = pd.read_csv(\"iplocation.csv\")\n",
    "df = pd.DataFrame(iplist)\n",
    "\n",
    "df.columns = ['time_stamp', 'ip', 'country', 'city']"
   ]
  },
  {
   "cell_type": "code",
   "execution_count": 2,
   "metadata": {
    "collapsed": false
   },
   "outputs": [
    {
     "data": {
      "text/html": [
       "<div>\n",
       "<table border=\"1\" class=\"dataframe\">\n",
       "  <thead>\n",
       "    <tr style=\"text-align: right;\">\n",
       "      <th></th>\n",
       "      <th>time_stamp</th>\n",
       "      <th>ip</th>\n",
       "      <th>country</th>\n",
       "      <th>city</th>\n",
       "    </tr>\n",
       "  </thead>\n",
       "  <tbody>\n",
       "    <tr>\n",
       "      <th>0</th>\n",
       "      <td>2016-03-28 08:48:06</td>\n",
       "      <td>66.180.59.95</td>\n",
       "      <td>United States</td>\n",
       "      <td>Plano</td>\n",
       "    </tr>\n",
       "    <tr>\n",
       "      <th>1</th>\n",
       "      <td>2016-03-28 08:48:06</td>\n",
       "      <td>66.180.59.95</td>\n",
       "      <td>United States</td>\n",
       "      <td>Plano</td>\n",
       "    </tr>\n",
       "    <tr>\n",
       "      <th>2</th>\n",
       "      <td>2016-03-28 08:48:07</td>\n",
       "      <td>66.180.59.95</td>\n",
       "      <td>United States</td>\n",
       "      <td>Plano</td>\n",
       "    </tr>\n",
       "    <tr>\n",
       "      <th>3</th>\n",
       "      <td>2016-03-28 08:48:08</td>\n",
       "      <td>66.180.59.95</td>\n",
       "      <td>United States</td>\n",
       "      <td>Plano</td>\n",
       "    </tr>\n",
       "    <tr>\n",
       "      <th>4</th>\n",
       "      <td>2016-03-28 09:58:58</td>\n",
       "      <td>169.229.3.91</td>\n",
       "      <td>United States</td>\n",
       "      <td>Berkeley</td>\n",
       "    </tr>\n",
       "  </tbody>\n",
       "</table>\n",
       "</div>"
      ],
      "text/plain": [
       "            time_stamp            ip        country      city\n",
       "0  2016-03-28 08:48:06  66.180.59.95  United States     Plano\n",
       "1  2016-03-28 08:48:06  66.180.59.95  United States     Plano\n",
       "2  2016-03-28 08:48:07  66.180.59.95  United States     Plano\n",
       "3  2016-03-28 08:48:08  66.180.59.95  United States     Plano\n",
       "4  2016-03-28 09:58:58  169.229.3.91  United States  Berkeley"
      ]
     },
     "execution_count": 2,
     "metadata": {},
     "output_type": "execute_result"
    }
   ],
   "source": [
    "df.head()"
   ]
  },
  {
   "cell_type": "code",
   "execution_count": 3,
   "metadata": {
    "collapsed": false
   },
   "outputs": [
    {
     "data": {
      "text/html": [
       "<div>\n",
       "<table border=\"1\" class=\"dataframe\">\n",
       "  <thead>\n",
       "    <tr style=\"text-align: right;\">\n",
       "      <th></th>\n",
       "      <th>time_stamp</th>\n",
       "      <th>ip</th>\n",
       "      <th>country</th>\n",
       "      <th>city</th>\n",
       "    </tr>\n",
       "  </thead>\n",
       "  <tbody>\n",
       "    <tr>\n",
       "      <th>341</th>\n",
       "      <td>2016-03-31 10:32:39</td>\n",
       "      <td>193.1.39.1</td>\n",
       "      <td>Ireland</td>\n",
       "      <td>Blanchardstown</td>\n",
       "    </tr>\n",
       "    <tr>\n",
       "      <th>342</th>\n",
       "      <td>2016-03-31 10:32:42</td>\n",
       "      <td>193.1.39.1</td>\n",
       "      <td>Ireland</td>\n",
       "      <td>Blanchardstown</td>\n",
       "    </tr>\n",
       "    <tr>\n",
       "      <th>343</th>\n",
       "      <td>2016-03-31 10:32:45</td>\n",
       "      <td>193.1.39.1</td>\n",
       "      <td>Ireland</td>\n",
       "      <td>Blanchardstown</td>\n",
       "    </tr>\n",
       "    <tr>\n",
       "      <th>344</th>\n",
       "      <td>2016-03-31 10:32:47</td>\n",
       "      <td>193.1.39.1</td>\n",
       "      <td>Ireland</td>\n",
       "      <td>Blanchardstown</td>\n",
       "    </tr>\n",
       "    <tr>\n",
       "      <th>345</th>\n",
       "      <td>2016-03-31 10:32:58</td>\n",
       "      <td>193.1.39.1</td>\n",
       "      <td>Ireland</td>\n",
       "      <td>Blanchardstown</td>\n",
       "    </tr>\n",
       "  </tbody>\n",
       "</table>\n",
       "</div>"
      ],
      "text/plain": [
       "              time_stamp          ip  country            city\n",
       "341  2016-03-31 10:32:39  193.1.39.1  Ireland  Blanchardstown\n",
       "342  2016-03-31 10:32:42  193.1.39.1  Ireland  Blanchardstown\n",
       "343  2016-03-31 10:32:45  193.1.39.1  Ireland  Blanchardstown\n",
       "344  2016-03-31 10:32:47  193.1.39.1  Ireland  Blanchardstown\n",
       "345  2016-03-31 10:32:58  193.1.39.1  Ireland  Blanchardstown"
      ]
     },
     "execution_count": 3,
     "metadata": {},
     "output_type": "execute_result"
    }
   ],
   "source": [
    "df.tail()"
   ]
  },
  {
   "cell_type": "code",
   "execution_count": 23,
   "metadata": {
    "collapsed": false
   },
   "outputs": [
    {
     "data": {
      "text/html": [
       "<div>\n",
       "<table border=\"1\" class=\"dataframe\">\n",
       "  <thead>\n",
       "    <tr style=\"text-align: right;\">\n",
       "      <th></th>\n",
       "      <th>time_stamp</th>\n",
       "      <th>ip</th>\n",
       "      <th>country</th>\n",
       "      <th>city</th>\n",
       "    </tr>\n",
       "  </thead>\n",
       "  <tbody>\n",
       "    <tr>\n",
       "      <th>0</th>\n",
       "      <td>2016-03-28 08:48:06</td>\n",
       "      <td>66.180.59.95</td>\n",
       "      <td>United States</td>\n",
       "      <td>Plano</td>\n",
       "    </tr>\n",
       "    <tr>\n",
       "      <th>1</th>\n",
       "      <td>2016-03-28 08:48:06</td>\n",
       "      <td>66.180.59.95</td>\n",
       "      <td>United States</td>\n",
       "      <td>Plano</td>\n",
       "    </tr>\n",
       "    <tr>\n",
       "      <th>2</th>\n",
       "      <td>2016-03-28 08:48:07</td>\n",
       "      <td>66.180.59.95</td>\n",
       "      <td>United States</td>\n",
       "      <td>Plano</td>\n",
       "    </tr>\n",
       "    <tr>\n",
       "      <th>3</th>\n",
       "      <td>2016-03-28 08:48:08</td>\n",
       "      <td>66.180.59.95</td>\n",
       "      <td>United States</td>\n",
       "      <td>Plano</td>\n",
       "    </tr>\n",
       "    <tr>\n",
       "      <th>4</th>\n",
       "      <td>2016-03-28 09:58:58</td>\n",
       "      <td>169.229.3.91</td>\n",
       "      <td>United States</td>\n",
       "      <td>Berkeley</td>\n",
       "    </tr>\n",
       "    <tr>\n",
       "      <th>5</th>\n",
       "      <td>2016-03-28 12:32:44</td>\n",
       "      <td>141.212.122.81</td>\n",
       "      <td>United States</td>\n",
       "      <td>Ann Arbor</td>\n",
       "    </tr>\n",
       "    <tr>\n",
       "      <th>6</th>\n",
       "      <td>2016-03-28 19:52:32</td>\n",
       "      <td>166.78.5.167</td>\n",
       "      <td>United States</td>\n",
       "      <td>San Antonio</td>\n",
       "    </tr>\n",
       "    <tr>\n",
       "      <th>7</th>\n",
       "      <td>2016-03-28 19:52:39</td>\n",
       "      <td>166.78.5.167</td>\n",
       "      <td>United States</td>\n",
       "      <td>San Antonio</td>\n",
       "    </tr>\n",
       "    <tr>\n",
       "      <th>8</th>\n",
       "      <td>2016-03-28 19:52:45</td>\n",
       "      <td>166.78.5.167</td>\n",
       "      <td>United States</td>\n",
       "      <td>San Antonio</td>\n",
       "    </tr>\n",
       "    <tr>\n",
       "      <th>9</th>\n",
       "      <td>2016-03-28 19:52:52</td>\n",
       "      <td>166.78.5.167</td>\n",
       "      <td>United States</td>\n",
       "      <td>San Antonio</td>\n",
       "    </tr>\n",
       "    <tr>\n",
       "      <th>10</th>\n",
       "      <td>2016-03-28 19:52:58</td>\n",
       "      <td>166.78.5.167</td>\n",
       "      <td>United States</td>\n",
       "      <td>San Antonio</td>\n",
       "    </tr>\n",
       "    <tr>\n",
       "      <th>11</th>\n",
       "      <td>2016-03-28 19:53:05</td>\n",
       "      <td>166.78.5.167</td>\n",
       "      <td>United States</td>\n",
       "      <td>San Antonio</td>\n",
       "    </tr>\n",
       "    <tr>\n",
       "      <th>12</th>\n",
       "      <td>2016-03-28 23:18:55</td>\n",
       "      <td>113.160.110.89</td>\n",
       "      <td>Vietnam</td>\n",
       "      <td>Hanoi</td>\n",
       "    </tr>\n",
       "    <tr>\n",
       "      <th>13</th>\n",
       "      <td>2016-03-29 00:39:35</td>\n",
       "      <td>54.165.171.43</td>\n",
       "      <td>United States</td>\n",
       "      <td>Ashburn</td>\n",
       "    </tr>\n",
       "    <tr>\n",
       "      <th>14</th>\n",
       "      <td>2016-03-29 09:00:26</td>\n",
       "      <td>54.81.171.53</td>\n",
       "      <td>United States</td>\n",
       "      <td>Ashburn</td>\n",
       "    </tr>\n",
       "    <tr>\n",
       "      <th>15</th>\n",
       "      <td>2016-03-29 12:46:10</td>\n",
       "      <td>54.255.191.246</td>\n",
       "      <td>Singapore</td>\n",
       "      <td>Singapore</td>\n",
       "    </tr>\n",
       "    <tr>\n",
       "      <th>16</th>\n",
       "      <td>2016-03-30 02:06:47</td>\n",
       "      <td>52.31.166.88</td>\n",
       "      <td>United States</td>\n",
       "      <td>Wilmington</td>\n",
       "    </tr>\n",
       "    <tr>\n",
       "      <th>17</th>\n",
       "      <td>2016-03-30 13:49:21</td>\n",
       "      <td>69.197.185.22</td>\n",
       "      <td>United States</td>\n",
       "      <td>Kansas City</td>\n",
       "    </tr>\n",
       "    <tr>\n",
       "      <th>18</th>\n",
       "      <td>2016-03-30 15:00:42</td>\n",
       "      <td>74.91.18.45</td>\n",
       "      <td>United States</td>\n",
       "      <td>Kansas City</td>\n",
       "    </tr>\n",
       "    <tr>\n",
       "      <th>19</th>\n",
       "      <td>2016-03-30 18:57:52</td>\n",
       "      <td>82.117.201.10</td>\n",
       "      <td>Serbia</td>\n",
       "      <td>Belgrade</td>\n",
       "    </tr>\n",
       "    <tr>\n",
       "      <th>20</th>\n",
       "      <td>2016-03-30 20:15:51</td>\n",
       "      <td>52.31.166.88</td>\n",
       "      <td>United States</td>\n",
       "      <td>Wilmington</td>\n",
       "    </tr>\n",
       "    <tr>\n",
       "      <th>21</th>\n",
       "      <td>2016-03-30 21:10:31</td>\n",
       "      <td>220.167.100.13</td>\n",
       "      <td>China</td>\n",
       "      <td>Chengdu</td>\n",
       "    </tr>\n",
       "    <tr>\n",
       "      <th>22</th>\n",
       "      <td>2016-03-30 21:14:58</td>\n",
       "      <td>159.203.76.169</td>\n",
       "      <td>United States</td>\n",
       "      <td>Auburn Hills</td>\n",
       "    </tr>\n",
       "    <tr>\n",
       "      <th>23</th>\n",
       "      <td>2016-03-30 21:14:59</td>\n",
       "      <td>159.203.76.169</td>\n",
       "      <td>United States</td>\n",
       "      <td>Auburn Hills</td>\n",
       "    </tr>\n",
       "    <tr>\n",
       "      <th>24</th>\n",
       "      <td>2016-03-30 21:14:59</td>\n",
       "      <td>159.203.76.169</td>\n",
       "      <td>United States</td>\n",
       "      <td>Auburn Hills</td>\n",
       "    </tr>\n",
       "    <tr>\n",
       "      <th>25</th>\n",
       "      <td>2016-03-30 21:14:59</td>\n",
       "      <td>159.203.76.169</td>\n",
       "      <td>United States</td>\n",
       "      <td>Auburn Hills</td>\n",
       "    </tr>\n",
       "    <tr>\n",
       "      <th>26</th>\n",
       "      <td>2016-03-30 21:14:59</td>\n",
       "      <td>159.203.76.169</td>\n",
       "      <td>United States</td>\n",
       "      <td>Auburn Hills</td>\n",
       "    </tr>\n",
       "    <tr>\n",
       "      <th>27</th>\n",
       "      <td>2016-03-30 21:14:59</td>\n",
       "      <td>159.203.76.169</td>\n",
       "      <td>United States</td>\n",
       "      <td>Auburn Hills</td>\n",
       "    </tr>\n",
       "    <tr>\n",
       "      <th>28</th>\n",
       "      <td>2016-03-31 02:38:18</td>\n",
       "      <td>113.240.250.156</td>\n",
       "      <td>China</td>\n",
       "      <td>Changsha</td>\n",
       "    </tr>\n",
       "    <tr>\n",
       "      <th>29</th>\n",
       "      <td>2016-03-31 02:40:51</td>\n",
       "      <td>113.240.250.156</td>\n",
       "      <td>China</td>\n",
       "      <td>Changsha</td>\n",
       "    </tr>\n",
       "    <tr>\n",
       "      <th>30</th>\n",
       "      <td>2016-03-31 02:40:52</td>\n",
       "      <td>113.240.250.156</td>\n",
       "      <td>China</td>\n",
       "      <td>Changsha</td>\n",
       "    </tr>\n",
       "    <tr>\n",
       "      <th>31</th>\n",
       "      <td>2016-03-31 02:41:25</td>\n",
       "      <td>113.240.250.156</td>\n",
       "      <td>China</td>\n",
       "      <td>Changsha</td>\n",
       "    </tr>\n",
       "    <tr>\n",
       "      <th>32</th>\n",
       "      <td>2016-03-31 03:48:00</td>\n",
       "      <td>104.36.16.202</td>\n",
       "      <td>United States</td>\n",
       "      <td>Palo Alto</td>\n",
       "    </tr>\n",
       "    <tr>\n",
       "      <th>45</th>\n",
       "      <td>2016-03-31 09:06:22</td>\n",
       "      <td>52.31.166.88</td>\n",
       "      <td>United States</td>\n",
       "      <td>Wilmington</td>\n",
       "    </tr>\n",
       "    <tr>\n",
       "      <th>139</th>\n",
       "      <td>2016-03-31 10:19:11</td>\n",
       "      <td>52.31.187.126</td>\n",
       "      <td>United States</td>\n",
       "      <td>Wilmington</td>\n",
       "    </tr>\n",
       "    <tr>\n",
       "      <th>141</th>\n",
       "      <td>2016-03-31 10:19:47</td>\n",
       "      <td>66.249.93.155</td>\n",
       "      <td>United States</td>\n",
       "      <td>Mountain View</td>\n",
       "    </tr>\n",
       "    <tr>\n",
       "      <th>142</th>\n",
       "      <td>2016-03-31 10:19:47</td>\n",
       "      <td>66.249.93.152</td>\n",
       "      <td>United States</td>\n",
       "      <td>Mountain View</td>\n",
       "    </tr>\n",
       "  </tbody>\n",
       "</table>\n",
       "</div>"
      ],
      "text/plain": [
       "              time_stamp               ip        country           city\n",
       "0    2016-03-28 08:48:06     66.180.59.95  United States          Plano\n",
       "1    2016-03-28 08:48:06     66.180.59.95  United States          Plano\n",
       "2    2016-03-28 08:48:07     66.180.59.95  United States          Plano\n",
       "3    2016-03-28 08:48:08     66.180.59.95  United States          Plano\n",
       "4    2016-03-28 09:58:58     169.229.3.91  United States       Berkeley\n",
       "5    2016-03-28 12:32:44   141.212.122.81  United States      Ann Arbor\n",
       "6    2016-03-28 19:52:32     166.78.5.167  United States    San Antonio\n",
       "7    2016-03-28 19:52:39     166.78.5.167  United States    San Antonio\n",
       "8    2016-03-28 19:52:45     166.78.5.167  United States    San Antonio\n",
       "9    2016-03-28 19:52:52     166.78.5.167  United States    San Antonio\n",
       "10   2016-03-28 19:52:58     166.78.5.167  United States    San Antonio\n",
       "11   2016-03-28 19:53:05     166.78.5.167  United States    San Antonio\n",
       "12   2016-03-28 23:18:55   113.160.110.89        Vietnam          Hanoi\n",
       "13   2016-03-29 00:39:35    54.165.171.43  United States        Ashburn\n",
       "14   2016-03-29 09:00:26     54.81.171.53  United States        Ashburn\n",
       "15   2016-03-29 12:46:10   54.255.191.246      Singapore      Singapore\n",
       "16   2016-03-30 02:06:47     52.31.166.88  United States     Wilmington\n",
       "17   2016-03-30 13:49:21    69.197.185.22  United States    Kansas City\n",
       "18   2016-03-30 15:00:42      74.91.18.45  United States    Kansas City\n",
       "19   2016-03-30 18:57:52    82.117.201.10         Serbia       Belgrade\n",
       "20   2016-03-30 20:15:51     52.31.166.88  United States     Wilmington\n",
       "21   2016-03-30 21:10:31   220.167.100.13          China        Chengdu\n",
       "22   2016-03-30 21:14:58   159.203.76.169  United States   Auburn Hills\n",
       "23   2016-03-30 21:14:59   159.203.76.169  United States   Auburn Hills\n",
       "24   2016-03-30 21:14:59   159.203.76.169  United States   Auburn Hills\n",
       "25   2016-03-30 21:14:59   159.203.76.169  United States   Auburn Hills\n",
       "26   2016-03-30 21:14:59   159.203.76.169  United States   Auburn Hills\n",
       "27   2016-03-30 21:14:59   159.203.76.169  United States   Auburn Hills\n",
       "28   2016-03-31 02:38:18  113.240.250.156          China       Changsha\n",
       "29   2016-03-31 02:40:51  113.240.250.156          China       Changsha\n",
       "30   2016-03-31 02:40:52  113.240.250.156          China       Changsha\n",
       "31   2016-03-31 02:41:25  113.240.250.156          China       Changsha\n",
       "32   2016-03-31 03:48:00    104.36.16.202  United States      Palo Alto\n",
       "45   2016-03-31 09:06:22     52.31.166.88  United States     Wilmington\n",
       "139  2016-03-31 10:19:11    52.31.187.126  United States     Wilmington\n",
       "141  2016-03-31 10:19:47    66.249.93.155  United States  Mountain View\n",
       "142  2016-03-31 10:19:47    66.249.93.152  United States  Mountain View"
      ]
     },
     "execution_count": 23,
     "metadata": {},
     "output_type": "execute_result"
    }
   ],
   "source": [
    "df_filtered = df[df['country'] !='Ireland']\n",
    "\n",
    "df_filtered"
   ]
  },
  {
   "cell_type": "code",
   "execution_count": 24,
   "metadata": {
    "collapsed": false
   },
   "outputs": [
    {
     "data": {
      "text/plain": [
       "count               37\n",
       "unique              19\n",
       "top       166.78.5.167\n",
       "freq                 6\n",
       "Name: ip, dtype: object"
      ]
     },
     "execution_count": 24,
     "metadata": {},
     "output_type": "execute_result"
    }
   ],
   "source": [
    "df_filtered['ip'].describe()"
   ]
  },
  {
   "cell_type": "code",
   "execution_count": 25,
   "metadata": {
    "collapsed": false
   },
   "outputs": [
    {
     "data": {
      "text/plain": [
       "count                      37\n",
       "unique                     31\n",
       "top       2016-03-30 21:14:59\n",
       "freq                        5\n",
       "Name: time_stamp, dtype: object"
      ]
     },
     "execution_count": 25,
     "metadata": {},
     "output_type": "execute_result"
    }
   ],
   "source": [
    "df_filtered['time_stamp'].describe()"
   ]
  },
  {
   "cell_type": "code",
   "execution_count": 26,
   "metadata": {
    "collapsed": false
   },
   "outputs": [
    {
     "data": {
      "text/plain": [
       "count                37\n",
       "unique                5\n",
       "top       United States\n",
       "freq                 29\n",
       "Name: country, dtype: object"
      ]
     },
     "execution_count": 26,
     "metadata": {},
     "output_type": "execute_result"
    }
   ],
   "source": [
    "df_filtered['country'].describe()"
   ]
  },
  {
   "cell_type": "code",
   "execution_count": 27,
   "metadata": {
    "collapsed": false
   },
   "outputs": [
    {
     "data": {
      "text/plain": [
       "count              37\n",
       "unique             15\n",
       "top       San Antonio\n",
       "freq                6\n",
       "Name: city, dtype: object"
      ]
     },
     "execution_count": 27,
     "metadata": {},
     "output_type": "execute_result"
    }
   ],
   "source": [
    "df_filtered['city'].describe()"
   ]
  },
  {
   "cell_type": "code",
   "execution_count": 28,
   "metadata": {
    "collapsed": false
   },
   "outputs": [
    {
     "data": {
      "text/plain": [
       "time_stamp    object\n",
       "ip            object\n",
       "country       object\n",
       "city          object\n",
       "dtype: object"
      ]
     },
     "execution_count": 28,
     "metadata": {},
     "output_type": "execute_result"
    }
   ],
   "source": [
    "df_filtered.dtypes"
   ]
  },
  {
   "cell_type": "code",
   "execution_count": 29,
   "metadata": {
    "collapsed": false
   },
   "outputs": [
    {
     "data": {
      "text/html": [
       "<div>\n",
       "<table border=\"1\" class=\"dataframe\">\n",
       "  <thead>\n",
       "    <tr style=\"text-align: right;\">\n",
       "      <th></th>\n",
       "      <th>ip</th>\n",
       "      <th>country</th>\n",
       "    </tr>\n",
       "  </thead>\n",
       "  <tbody>\n",
       "    <tr>\n",
       "      <th>0</th>\n",
       "      <td>66.180.59.95</td>\n",
       "      <td>United States</td>\n",
       "    </tr>\n",
       "    <tr>\n",
       "      <th>1</th>\n",
       "      <td>66.180.59.95</td>\n",
       "      <td>United States</td>\n",
       "    </tr>\n",
       "    <tr>\n",
       "      <th>2</th>\n",
       "      <td>66.180.59.95</td>\n",
       "      <td>United States</td>\n",
       "    </tr>\n",
       "    <tr>\n",
       "      <th>3</th>\n",
       "      <td>66.180.59.95</td>\n",
       "      <td>United States</td>\n",
       "    </tr>\n",
       "    <tr>\n",
       "      <th>4</th>\n",
       "      <td>169.229.3.91</td>\n",
       "      <td>United States</td>\n",
       "    </tr>\n",
       "  </tbody>\n",
       "</table>\n",
       "</div>"
      ],
      "text/plain": [
       "             ip        country\n",
       "0  66.180.59.95  United States\n",
       "1  66.180.59.95  United States\n",
       "2  66.180.59.95  United States\n",
       "3  66.180.59.95  United States\n",
       "4  169.229.3.91  United States"
      ]
     },
     "execution_count": 29,
     "metadata": {},
     "output_type": "execute_result"
    }
   ],
   "source": [
    "visitors = df_filtered[['ip', 'country']]\n",
    "visitors.head()"
   ]
  },
  {
   "cell_type": "code",
   "execution_count": 30,
   "metadata": {
    "collapsed": false
   },
   "outputs": [
    {
     "data": {
      "text/plain": [
       "country\n",
       "China             5\n",
       "Serbia            1\n",
       "Singapore         1\n",
       "United States    29\n",
       "Vietnam           1\n",
       "dtype: int64"
      ]
     },
     "execution_count": 30,
     "metadata": {},
     "output_type": "execute_result"
    }
   ],
   "source": [
    "visitor_group = visitors.groupby('country')\n",
    "total_visitors = visitor_group.size()\n",
    "total_visitors"
   ]
  },
  {
   "cell_type": "code",
   "execution_count": 31,
   "metadata": {
    "collapsed": false
   },
   "outputs": [
    {
     "data": {
      "text/plain": [
       "<matplotlib.axes._subplots.AxesSubplot at 0x965bb00>"
      ]
     },
     "execution_count": 31,
     "metadata": {},
     "output_type": "execute_result"
    },
    {
     "data": {
      "image/png": "[encoded data removed]",
      "text/plain": [
       "<matplotlib.figure.Figure at 0x964b860>"
      ]
     },
     "metadata": {},
     "output_type": "display_data"
    }
   ],
   "source": [
    "total_visitors.plot.pie(autopct='%.2f', figsize=(10, 10))"
   ]
  }
 ],
 "metadata": {
  "kernelspec": {
   "display_name": "Python 2",
   "language": "python",
   "name": "python2"
  },
  "language_info": {
   "codemirror_mode": {
    "name": "ipython",
    "version": 2
   },
   "file_extension": ".py",
   "mimetype": "text/x-python",
   "name": "python",
   "nbconvert_exporter": "python",
   "pygments_lexer": "ipython2",
   "version": "2.7.11"
  }
 },
 "nbformat": 4,
 "nbformat_minor": 0
}
